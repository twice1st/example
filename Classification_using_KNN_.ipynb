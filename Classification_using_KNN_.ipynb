{
  "cells": [
    {
      "cell_type": "markdown",
      "metadata": {
        "colab_type": "text",
        "id": "view-in-github"
      },
      "source": [
        "<a href=\"https://colab.research.google.com/github/twice1st/Detecting-and-Beautifying-Vietnamese-Faces/blob/main/Source%20code/Classification_using_KNN_.ipynb\" target=\"_parent\"><img src=\"https://colab.research.google.com/assets/colab-badge.svg\" alt=\"Open In Colab\"/></a>"
      ]
    },
    {
      "cell_type": "code",
      "execution_count": null,
      "metadata": {
        "colab": {
          "base_uri": "https://localhost:8080/"
        },
        "id": "xJiufqV-qZmi",
        "outputId": "191c4c5f-5899-436d-b702-80764166ba9f"
      },
      "outputs": [
        {
          "name": "stdout",
          "output_type": "stream",
          "text": [
            "Mounted at /content/drive\n"
          ]
        }
      ],
      "source": [
        "from google.colab import drive\n",
        "drive.mount('/content/drive')"
      ]
    },
    {
      "cell_type": "code",
      "execution_count": null,
      "metadata": {
        "id": "NrXjHfZIqq8E"
      },
      "outputs": [],
      "source": [
        "import os\n",
        "import cv2\n",
        "import numpy as np\n",
        "import pickle"
      ]
    },
    {
      "cell_type": "markdown",
      "metadata": {
        "id": "1KYqLJTjqzb8"
      },
      "source": [
        "# Đọc file Vector embedding"
      ]
    },
    {
      "cell_type": "code",
      "execution_count": null,
      "metadata": {
        "id": "KhUJF9SRq3Qr"
      },
      "outputs": [],
      "source": [
        "def _save_pickle(obj, file_path):\n",
        "  with open(file_path, 'wb') as f:\n",
        "    pickle.dump(obj, f)\n",
        "\n",
        "def _load_pickle(file_path):\n",
        "  with open(file_path, 'rb') as f:\n",
        "    obj = pickle.load(f)\n",
        "  return obj"
      ]
    },
    {
      "cell_type": "code",
      "execution_count": null,
      "metadata": {
        "id": "GmFIMRkaq7W8"
      },
      "outputs": [],
      "source": [
        "# embedding = _load_pickle(\"/content/drive/MyDrive/CS231/file/Trong/embed_blob_faces.pkl\")\n",
        "embedding_sm1 = _load_pickle(\"/content/drive/MyDrive/CS231/file/Trong/embed_blob_faces_sm1.pkl\")\n",
        "embedding_sm2 = _load_pickle(\"/content/drive/MyDrive/CS231/file/Trong/embed_blob_faces_sm2.pkl\")\n",
        "embedding_v2 = _load_pickle(\"/content/drive/MyDrive/CS231/file/Trong/embed_blob_faces_v2.pkl\")\n",
        "labels =  _load_pickle(\"/content/drive/MyDrive/CS231/file/Trong/labels.pkl\")"
      ]
    },
    {
      "cell_type": "code",
      "execution_count": null,
      "metadata": {
        "id": "6aMFyRe_gGIS"
      },
      "outputs": [],
      "source": [
        "embedding_sm1_no_processing = _load_pickle(\"/content/drive/MyDrive/CS231/file/Trong/embed_blob_faces_sm1_no_processing.pkl\")\n",
        "embedding_sm2_no_processing = _load_pickle(\"/content/drive/MyDrive/CS231/file/Trong/embed_blob_faces_sm2_no_processing.pkl\")\n",
        "embedding_v2_no_processing = _load_pickle(\"/content/drive/MyDrive/CS231/file/Trong/embed_blob_faces_v2_no_processing.pkl\")"
      ]
    },
    {
      "cell_type": "code",
      "execution_count": null,
      "metadata": {
        "id": "ydsJotMBs17M"
      },
      "outputs": [],
      "source": [
        "train_ids =  _load_pickle(\"/content/drive/MyDrive/CS231/file/Trong/id_train.pkl\")\n",
        "test_ids = _load_pickle(\"/content/drive/MyDrive/CS231/file/Trong/id_test.pkl\")"
      ]
    },
    {
      "cell_type": "markdown",
      "metadata": {
        "id": "nWvJAibPrCnt"
      },
      "source": [
        "# Tiền xử lý dữ liệu "
      ]
    },
    {
      "cell_type": "code",
      "execution_count": null,
      "metadata": {
        "id": "JRrmrPHyZux2"
      },
      "outputs": [],
      "source": [
        "from sklearn.preprocessing import StandardScaler\n",
        "import numpy as np\n",
        "# scaler= StandardScaler()\n",
        "# X = np.array(embedding)\n",
        "# X=X.reshape(19589,1*128)\n",
        "# X = scaler.fit_transform(X)"
      ]
    },
    {
      "cell_type": "code",
      "execution_count": null,
      "metadata": {
        "id": "o32RmI--1DdF"
      },
      "outputs": [],
      "source": [
        "def preprocess(embedding, labels):\n",
        "    scaler= StandardScaler()\n",
        "    X = np.array(embedding)\n",
        "    X=X.reshape(19589,1*128)\n",
        "    X = scaler.fit_transform(X)\n",
        "    y= np.array(labels)\n",
        "    y = y.astype(np.int)\n",
        "    X_train= [ X[i] for i in train_ids]\n",
        "    y_train= [ y[i] for i in train_ids]\n",
        "    X_test = [ X[i] for i in test_ids]\n",
        "    y_test = [ y[i] for i in test_ids]\n",
        "    X_train,y_train,X_test,y_test = np.array(X_train), np.array(y_train),np.array(X_test),np.array(y_test)\n",
        "    return X_train,y_train,X_test,y_test"
      ]
    },
    {
      "cell_type": "code",
      "execution_count": null,
      "metadata": {
        "id": "6AqhBZaMnEIR"
      },
      "outputs": [],
      "source": [
        "from sklearn.neighbors import KNeighborsClassifier\n",
        "from sklearn.metrics import classification_report, confusion_matrix, accuracy_score\n",
        "import pandas as pd\n",
        "import matplotlib.pyplot as plt\n",
        "import seaborn as sns"
      ]
    },
    {
      "cell_type": "code",
      "execution_count": null,
      "metadata": {
        "id": "6EhhUBazrURi"
      },
      "outputs": [],
      "source": [
        "class_names= [\"Other\",\"Vietnamese\"]"
      ]
    },
    {
      "cell_type": "code",
      "execution_count": null,
      "metadata": {
        "id": "Bx_cNAzGq05R"
      },
      "outputs": [],
      "source": [
        "def draw_cf_matrix(cf_matrix, class_names):\n",
        "    df_cm = pd.DataFrame(cf_matrix, index = [i for i in class_names],\n",
        "                    columns = [i for i in class_names])\n",
        "    plt.figure(figsize = (10,7))\n",
        "    sns.heatmap(df_cm, annot=True,fmt='g')"
      ]
    },
    {
      "cell_type": "code",
      "execution_count": null,
      "metadata": {
        "colab": {
          "base_uri": "https://localhost:8080/"
        },
        "id": "sd1uOk7qHfzx",
        "outputId": "9c18814b-83e7-46de-de22-57bba390eeef"
      },
      "outputs": [
        {
          "name": "stdout",
          "output_type": "stream",
          "text": [
            "\u001b[31mERROR: Could not find a version that satisfies the requirement cPickle (from versions: none)\u001b[0m\n",
            "\u001b[31mERROR: No matching distribution found for cPickle\u001b[0m\n"
          ]
        }
      ],
      "source": [
        "pip install cPickle"
      ]
    },
    {
      "cell_type": "code",
      "execution_count": null,
      "metadata": {
        "id": "xoDTOxQgEO9r"
      },
      "outputs": [],
      "source": [
        "import sklearn.externals \n",
        "import joblib\n",
        "import pickle"
      ]
    },
    {
      "cell_type": "code",
      "execution_count": null,
      "metadata": {
        "id": "pGtEA8f3HDio"
      },
      "outputs": [],
      "source": [
        "import cPickle\n",
        "# save the classifier\n",
        "with open('/content/drive/MyDrive/CS231/knn.pkl', 'wb') as fid:\n",
        "    cPickle.dump(clf, fid)    \n",
        "\n",
        "# load it again\n",
        "with open('my_dumped_classifier.pkl', 'rb') as fid:\n",
        "    gnb_loaded = cPickle.load(fid)"
      ]
    },
    {
      "cell_type": "code",
      "execution_count": null,
      "metadata": {
        "id": "GJlupFYJoOGR"
      },
      "outputs": [],
      "source": [
        "def classification(embedding, labels):\n",
        "  X_train,y_train,X_test,y_test = preprocess(embedding, labels)\n",
        "  \n",
        "  clf = KNeighborsClassifier(n_neighbors = 37).fit(X_train,y_train)\n",
        "  with open('/content/drive/MyDrive/CS231/knn.pkl', 'wb') as fid:\n",
        "    pickle.dump(clf, fid)\n",
        "  y_pred = (clf.predict(X_test) > 0.5).astype(\"int32\")\n",
        "  y_pred= y_pred.reshape(y_pred.shape[0])\n",
        "\n",
        "  y_pred = y_pred.astype('str')\n",
        "  for i in range(len(y_pred)):\n",
        "        y_pred[i] = class_names[int(y_pred[i])]\n",
        "\n",
        "  y_test = y_test.astype('str')\n",
        "  for i in range (len(y_test)):\n",
        "      if y_test[i]=='0':\n",
        "        y_test[i]=\"Other\"\n",
        "      else:\n",
        "            y_test[i]=\"Vietnamese\"\n",
        "    \n",
        "  print('Classification Report')\n",
        "  print(classification_report(y_test, y_pred, target_names=class_names))  \n",
        "    \n",
        "  cf_matrix = confusion_matrix(y_test, y_pred)\n",
        "  draw_cf_matrix(cf_matrix, class_names)"
      ]
    },
    {
      "cell_type": "code",
      "execution_count": null,
      "metadata": {
        "id": "CTsDJc4J9WGE"
      },
      "outputs": [],
      "source": [
        "X_train,y_train,X_test,y_test = preprocess(embedding_sm1, labels)"
      ]
    },
    {
      "cell_type": "code",
      "execution_count": null,
      "metadata": {
        "colab": {
          "base_uri": "https://localhost:8080/",
          "height": 405
        },
        "id": "476jiluFDx3B",
        "outputId": "24d676b5-4928-428b-cf49-939db18a0acf"
      },
      "outputs": [
        {
          "name": "stdout",
          "output_type": "stream",
          "text": [
            "optimal k: 37\n"
          ]
        },
        {
          "data": {
            "image/png": "[encoded data removed]",
            "text/plain": [
              "<Figure size 720x432 with 1 Axes>"
            ]
          },
          "metadata": {
            "needs_background": "light"
          },
          "output_type": "display_data"
        }
      ],
      "source": [
        "MSE = [1-x for x in cv_score]\n",
        "optimal_k = nei[MSE.index(min(MSE))]\n",
        "print(\"optimal k:\", optimal_k)\n",
        "\n",
        "plt.figure(figsize = (10,6))\n",
        "plt.plot(nei,MSE)\n",
        "plt.xlabel(\"Num of k\")\n",
        "plt.ylabel(\"Missclassification Error\")\n",
        "plt.show()"
      ]
    },
    {
      "cell_type": "markdown",
      "metadata": {
        "id": "pWbrF9TOsXRy"
      },
      "source": [
        "#Đánh giá trên file embedding sm1"
      ]
    },
    {
      "cell_type": "code",
      "execution_count": null,
      "metadata": {
        "colab": {
          "base_uri": "https://localhost:8080/",
          "height": 602
        },
        "id": "4li94Tg3pMeJ",
        "outputId": "574e2d78-7b76-41dd-b711-c5f8cc32cab6"
      },
      "outputs": [
        {
          "name": "stdout",
          "output_type": "stream",
          "text": [
            "Classification Report\n",
            "              precision    recall  f1-score   support\n",
            "\n",
            "       Other       0.81      0.73      0.77      1918\n",
            "  Vietnamese       0.76      0.84      0.80      2000\n",
            "\n",
            "    accuracy                           0.78      3918\n",
            "   macro avg       0.79      0.78      0.78      3918\n",
            "weighted avg       0.79      0.78      0.78      3918\n",
            "\n"
          ]
        },
        {
          "data": {
            "image/png": "[encoded data removed]",
            "text/plain": [
              "<Figure size 720x504 with 2 Axes>"
            ]
          },
          "metadata": {
            "needs_background": "light"
          },
          "output_type": "display_data"
        }
      ],
      "source": [
        "#classification(embedding_sm1,labels)\n",
        "X_train,y_train,X_test,y_test = preprocess(embedding_sm1, labels)\n",
        "  \n",
        "clf = KNeighborsClassifier(n_neighbors = 37).fit(X_train,y_train)\n",
        "  \n",
        "y_pred = (clf.predict(X_test) > 0.5).astype(\"int32\")\n",
        "y_pred= y_pred.reshape(y_pred.shape[0])\n",
        "\n",
        "y_pred = y_pred.astype('str')\n",
        "for i in range(len(y_pred)):\n",
        "  y_pred[i] = class_names[int(y_pred[i])]\n",
        "\n",
        "y_test = y_test.astype('str')\n",
        "for i in range (len(y_test)):\n",
        "  if y_test[i]=='0':\n",
        "      y_test[i]=\"Other\"\n",
        "  else:\n",
        "      y_test[i]=\"Vietnamese\"\n",
        "    \n",
        "print('Classification Report')\n",
        "print(classification_report(y_test, y_pred, target_names=class_names))  \n",
        "    \n",
        "cf_matrix = confusion_matrix(y_test, y_pred)\n",
        "draw_cf_matrix(cf_matrix, class_names)"
      ]
    },
    {
      "cell_type": "markdown",
      "metadata": {
        "id": "NSNZCY2ngj3R"
      },
      "source": [
        "#Đánh giá trên file embedding sm1 chưa tiền xử lý"
      ]
    },
    {
      "cell_type": "code",
      "execution_count": null,
      "metadata": {
        "colab": {
          "base_uri": "https://localhost:8080/",
          "height": 602
        },
        "id": "MWHYAH_VgoGh",
        "outputId": "2bf983dd-31c9-4654-d5d6-71aeae4b611a"
      },
      "outputs": [
        {
          "name": "stdout",
          "output_type": "stream",
          "text": [
            "Classification Report\n",
            "              precision    recall  f1-score   support\n",
            "\n",
            "       Other       0.58      0.53      0.56      1918\n",
            "  Vietnamese       0.59      0.64      0.61      2000\n",
            "\n",
            "    accuracy                           0.59      3918\n",
            "   macro avg       0.59      0.59      0.58      3918\n",
            "weighted avg       0.59      0.59      0.59      3918\n",
            "\n"
          ]
        },
        {
          "data": {
            "image/png": "[encoded data removed]",
            "text/plain": [
              "<Figure size 720x504 with 2 Axes>"
            ]
          },
          "metadata": {
            "needs_background": "light"
          },
          "output_type": "display_data"
        }
      ],
      "source": [
        "#classification(embedding_sm1_no_processing,labels)\n",
        "X_train,y_train,X_test,y_test = preprocess(embedding_sm1_no_processing, labels)\n",
        "  \n",
        "clf = KNeighborsClassifier(n_neighbors = 37).fit(X_train,y_train)\n",
        "  \n",
        "y_pred = (clf.predict(X_test) > 0.5).astype(\"int32\")\n",
        "y_pred= y_pred.reshape(y_pred.shape[0])\n",
        "\n",
        "y_pred = y_pred.astype('str')\n",
        "for i in range(len(y_pred)):\n",
        "  y_pred[i] = class_names[int(y_pred[i])]\n",
        "\n",
        "y_test = y_test.astype('str')\n",
        "for i in range (len(y_test)):\n",
        "  if y_test[i]=='0':\n",
        "      y_test[i]=\"Other\"\n",
        "  else:\n",
        "      y_test[i]=\"Vietnamese\"\n",
        "    \n",
        "print('Classification Report')\n",
        "print(classification_report(y_test, y_pred, target_names=class_names))  \n",
        "    \n",
        "cf_matrix = confusion_matrix(y_test, y_pred)\n",
        "draw_cf_matrix(cf_matrix, class_names)"
      ]
    },
    {
      "cell_type": "code",
      "execution_count": null,
      "metadata": {
        "colab": {
          "base_uri": "https://localhost:8080/"
        },
        "id": "RDgJx24PS2WV",
        "outputId": "62a81d9b-e169-473b-e313-464d3131808b"
      },
      "outputs": [
        {
          "data": {
            "text/plain": [
              "1621"
            ]
          },
          "execution_count": 20,
          "metadata": {},
          "output_type": "execute_result"
        }
      ],
      "source": [
        "a = 0\n",
        "for i in range(len(y_test)):\n",
        "  if y_pred[i] != y_test[i]:\n",
        "    a+=1\n",
        "a"
      ]
    },
    {
      "cell_type": "markdown",
      "metadata": {
        "id": "Wr4wgUVlsgkK"
      },
      "source": [
        "#Đánh giá trên file embedding sm2"
      ]
    },
    {
      "cell_type": "code",
      "execution_count": null,
      "metadata": {
        "colab": {
          "base_uri": "https://localhost:8080/",
          "height": 602
        },
        "id": "K4EPYS7dsI0C",
        "outputId": "c84c8681-6a47-48bf-8d33-3a5602670a6a"
      },
      "outputs": [
        {
          "name": "stdout",
          "output_type": "stream",
          "text": [
            "Classification Report\n",
            "              precision    recall  f1-score   support\n",
            "\n",
            "       Other       0.81      0.73      0.77      1918\n",
            "  Vietnamese       0.77      0.84      0.80      2000\n",
            "\n",
            "    accuracy                           0.79      3918\n",
            "   macro avg       0.79      0.79      0.79      3918\n",
            "weighted avg       0.79      0.79      0.79      3918\n",
            "\n"
          ]
        },
        {
          "data": {
            "image/png": "[encoded data removed]",
            "text/plain": [
              "<Figure size 720x504 with 2 Axes>"
            ]
          },
          "metadata": {
            "needs_background": "light"
          },
          "output_type": "display_data"
        }
      ],
      "source": [
        "classification(embedding_sm2,labels)"
      ]
    },
    {
      "cell_type": "markdown",
      "metadata": {
        "id": "cyoOOkXwguBc"
      },
      "source": [
        "#Đánh giá trên file embedding sm2 chưa tiền xử lý"
      ]
    },
    {
      "cell_type": "code",
      "execution_count": null,
      "metadata": {
        "colab": {
          "base_uri": "https://localhost:8080/",
          "height": 602
        },
        "id": "qqy-VLsQguBc",
        "outputId": "acaa4431-7b5e-42a3-c01c-a18bacebbf94"
      },
      "outputs": [
        {
          "name": "stdout",
          "output_type": "stream",
          "text": [
            "Classification Report\n",
            "              precision    recall  f1-score   support\n",
            "\n",
            "       Other       0.60      0.57      0.59      1918\n",
            "  Vietnamese       0.61      0.64      0.62      2000\n",
            "\n",
            "    accuracy                           0.61      3918\n",
            "   macro avg       0.61      0.61      0.61      3918\n",
            "weighted avg       0.61      0.61      0.61      3918\n",
            "\n"
          ]
        },
        {
          "data": {
            "image/png": "[encoded data removed]",
            "text/plain": [
              "<Figure size 720x504 with 2 Axes>"
            ]
          },
          "metadata": {
            "needs_background": "light"
          },
          "output_type": "display_data"
        }
      ],
      "source": [
        "#classification(embedding_sm2_no_processing,labels)\n",
        "X_train,y_train,X_test,y_test = preprocess(embedding_sm2_no_processing, labels)\n",
        "  \n",
        "clf = KNeighborsClassifier(n_neighbors = 37).fit(X_train,y_train)\n",
        "  \n",
        "y_pred = (clf.predict(X_test) > 0.5).astype(\"int32\")\n",
        "y_pred= y_pred.reshape(y_pred.shape[0])\n",
        "\n",
        "y_pred = y_pred.astype('str')\n",
        "for i in range(len(y_pred)):\n",
        "  y_pred[i] = class_names[int(y_pred[i])]\n",
        "\n",
        "y_test = y_test.astype('str')\n",
        "for i in range (len(y_test)):\n",
        "  if y_test[i]=='0':\n",
        "      y_test[i]=\"Other\"\n",
        "  else:\n",
        "      y_test[i]=\"Vietnamese\"\n",
        "    \n",
        "print('Classification Report')\n",
        "print(classification_report(y_test, y_pred, target_names=class_names))  \n",
        "    \n",
        "cf_matrix = confusion_matrix(y_test, y_pred)\n",
        "draw_cf_matrix(cf_matrix, class_names)"
      ]
    },
    {
      "cell_type": "code",
      "execution_count": null,
      "metadata": {
        "colab": {
          "base_uri": "https://localhost:8080/"
        },
        "id": "ldKfxHvxTCje",
        "outputId": "4b88ae88-33bc-4a47-d67c-4de2c42afd67"
      },
      "outputs": [
        {
          "data": {
            "text/plain": [
              "1541"
            ]
          },
          "execution_count": 22,
          "metadata": {},
          "output_type": "execute_result"
        }
      ],
      "source": [
        "a = 0\n",
        "for i in range(len(y_test)):\n",
        "  if y_pred[i] != y_test[i]:\n",
        "    a+=1\n",
        "a"
      ]
    },
    {
      "cell_type": "markdown",
      "metadata": {
        "id": "maqsHgoLsiLJ"
      },
      "source": [
        "#Đánh giá trên file embedding v2"
      ]
    },
    {
      "cell_type": "code",
      "execution_count": null,
      "metadata": {
        "colab": {
          "base_uri": "https://localhost:8080/",
          "height": 602
        },
        "id": "UcjJQN8_sOCa",
        "outputId": "ace57468-44b1-4d6b-ba32-f47183c95ba5"
      },
      "outputs": [
        {
          "name": "stdout",
          "output_type": "stream",
          "text": [
            "Classification Report\n",
            "              precision    recall  f1-score   support\n",
            "\n",
            "       Other       0.73      0.74      0.74      1918\n",
            "  Vietnamese       0.75      0.73      0.74      2000\n",
            "\n",
            "    accuracy                           0.74      3918\n",
            "   macro avg       0.74      0.74      0.74      3918\n",
            "weighted avg       0.74      0.74      0.74      3918\n",
            "\n"
          ]
        },
        {
          "data": {
            "image/png": "[encoded data removed]",
            "text/plain": [
              "<Figure size 720x504 with 2 Axes>"
            ]
          },
          "metadata": {
            "needs_background": "light"
          },
          "output_type": "display_data"
        }
      ],
      "source": [
        "classification(embedding_v2,labels)"
      ]
    },
    {
      "cell_type": "markdown",
      "metadata": {
        "id": "EqBSEvdYgxyR"
      },
      "source": [
        "#Đánh giá trên file embedding v2 chưa tiền xử lý"
      ]
    },
    {
      "cell_type": "code",
      "execution_count": null,
      "metadata": {
        "colab": {
          "base_uri": "https://localhost:8080/",
          "height": 602
        },
        "id": "ApGsDKhWgxyR",
        "outputId": "1586c443-876c-4374-af4b-cadfcedb39af"
      },
      "outputs": [
        {
          "name": "stdout",
          "output_type": "stream",
          "text": [
            "Classification Report\n",
            "              precision    recall  f1-score   support\n",
            "\n",
            "       Other       0.57      0.50      0.53      1918\n",
            "  Vietnamese       0.57      0.64      0.60      2000\n",
            "\n",
            "    accuracy                           0.57      3918\n",
            "   macro avg       0.57      0.57      0.56      3918\n",
            "weighted avg       0.57      0.57      0.57      3918\n",
            "\n"
          ]
        },
        {
          "data": {
            "image/png": "[encoded data removed]",
            "text/plain": [
              "<Figure size 720x504 with 2 Axes>"
            ]
          },
          "metadata": {
            "needs_background": "light"
          },
          "output_type": "display_data"
        }
      ],
      "source": [
        "#classification(embedding_v2_no_processing,labels)\n",
        "X_train,y_train,X_test,y_test = preprocess(embedding_v2_no_processing, labels)\n",
        "  \n",
        "clf = KNeighborsClassifier(n_neighbors = 37).fit(X_train,y_train)\n",
        "  \n",
        "y_pred = (clf.predict(X_test) > 0.5).astype(\"int32\")\n",
        "y_pred= y_pred.reshape(y_pred.shape[0])\n",
        "\n",
        "y_pred = y_pred.astype('str')\n",
        "for i in range(len(y_pred)):\n",
        "  y_pred[i] = class_names[int(y_pred[i])]\n",
        "\n",
        "y_test = y_test.astype('str')\n",
        "for i in range (len(y_test)):\n",
        "  if y_test[i]=='0':\n",
        "      y_test[i]=\"Other\"\n",
        "  else:\n",
        "      y_test[i]=\"Vietnamese\"\n",
        "    \n",
        "print('Classification Report')\n",
        "print(classification_report(y_test, y_pred, target_names=class_names))  \n",
        "    \n",
        "cf_matrix = confusion_matrix(y_test, y_pred)\n",
        "draw_cf_matrix(cf_matrix, class_names)"
      ]
    }
  ],
  "metadata": {
    "accelerator": "GPU",
    "colab": {
      "include_colab_link": true,
      "provenance": []
    },
    "kernelspec": {
      "display_name": "Python 3",
      "name": "python3"
    },
    "language_info": {
      "name": "python"
    }
  },
  "nbformat": 4,
  "nbformat_minor": 0
}
