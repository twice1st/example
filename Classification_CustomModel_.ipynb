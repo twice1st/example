{
  "nbformat": 4,
  "nbformat_minor": 0,
  "metadata": {
    "colab": {
      "provenance": [],
      "toc_visible": true,
      "include_colab_link": true
    },
    "kernelspec": {
      "name": "python3",
      "display_name": "Python 3"
    },
    "language_info": {
      "name": "python"
    }
  },
  "cells": [
    {
      "cell_type": "markdown",
      "metadata": {
        "id": "view-in-github",
        "colab_type": "text"
      },
      "source": [
        "<a href=\"https://colab.research.google.com/github/twice1st/Detecting-and-Beautifying-Vietnamese-Faces/blob/main/Source%20code/Classification_CustomModel_.ipynb\" target=\"_parent\"><img src=\"https://colab.research.google.com/assets/colab-badge.svg\" alt=\"Open In Colab\"/></a>"
      ]
    },
    {
      "cell_type": "code",
      "execution_count": null,
      "metadata": {
        "colab": {
          "base_uri": "https://localhost:8080/"
        },
        "id": "xJiufqV-qZmi",
        "outputId": "545722f9-0f7a-47cb-fcff-27a29e469d75"
      },
      "outputs": [
        {
          "output_type": "stream",
          "name": "stdout",
          "text": [
            "Mounted at /content/drive\n"
          ]
        }
      ],
      "source": [
        "from google.colab import drive\n",
        "drive.mount('/content/drive')"
      ]
    },
    {
      "cell_type": "code",
      "source": [
        "import os\n",
        "import cv2\n",
        "import numpy as np\n",
        "import pickle"
      ],
      "metadata": {
        "id": "NrXjHfZIqq8E"
      },
      "execution_count": null,
      "outputs": []
    },
    {
      "cell_type": "markdown",
      "source": [
        "# Đọc file Vector embedding"
      ],
      "metadata": {
        "id": "1KYqLJTjqzb8"
      }
    },
    {
      "cell_type": "code",
      "source": [
        "def _save_pickle(obj, file_path):\n",
        "  with open(file_path, 'wb') as f:\n",
        "    pickle.dump(obj, f)\n",
        "\n",
        "def _load_pickle(file_path):\n",
        "  with open(file_path, 'rb') as f:\n",
        "    obj = pickle.load(f)\n",
        "  return obj"
      ],
      "metadata": {
        "id": "KhUJF9SRq3Qr"
      },
      "execution_count": null,
      "outputs": []
    },
    {
      "cell_type": "code",
      "source": [
        "embedding_sm1 = _load_pickle(\"/content/drive/MyDrive/CS231/file/Trong/embed_blob_faces_sm1.pkl\")\n",
        "embedding_sm2 = _load_pickle(\"/content/drive/MyDrive/CS231/file/Trong/embed_blob_faces_sm2.pkl\")\n",
        "embedding_v2 = _load_pickle(\"/content/drive/MyDrive/CS231/file/Trong/embed_blob_faces_v2.pkl\")\n",
        "embedding_sm1_1= _load_pickle(\"/content/drive/MyDrive/CS231/file/Trong/embed_blob_faces_sm1_no_processing.pkl\")\n",
        "embedding_sm2_1= _load_pickle(\"/content/drive/MyDrive/CS231/file/Trong/embed_blob_faces_sm2_no_processing.pkl\")\n",
        "embedding_v2_1= _load_pickle(\"/content/drive/MyDrive/CS231/file/Trong/embed_blob_faces_v2_no_processing.pkl\")\n",
        "labels =  _load_pickle(\"/content/drive/MyDrive/CS231/file/Trong/labels.pkl\")"
      ],
      "metadata": {
        "id": "GmFIMRkaq7W8"
      },
      "execution_count": null,
      "outputs": []
    },
    {
      "cell_type": "code",
      "source": [
        "path =_load_pickle(\"/content/drive/MyDrive/CS231/file/Trong/images_file.pkl\")"
      ],
      "metadata": {
        "id": "v3wBsaAh3iM7"
      },
      "execution_count": null,
      "outputs": []
    },
    {
      "cell_type": "code",
      "source": [
        "import cv2\n",
        "from google.colab.patches import cv2_imshow"
      ],
      "metadata": {
        "id": "Lhhnr8o733JH"
      },
      "execution_count": null,
      "outputs": []
    },
    {
      "cell_type": "code",
      "source": [
        "img= cv2.imread(path[2],cv2.IMREAD_UNCHANGED)\n",
        "cv2_imshow(img)"
      ],
      "metadata": {
        "colab": {
          "base_uri": "https://localhost:8080/",
          "height": 151
        },
        "id": "BGI2zW7w4PLv",
        "outputId": "98cefeb9-f821-4a8c-d901-767f687833b8"
      },
      "execution_count": null,
      "outputs": [
        {
          "output_type": "display_data",
          "data": {
            "image/png": "[encoded data removed]",
            "text/plain": [
              "<PIL.Image.Image image mode=RGB size=109x134 at 0x7F86B4336050>"
            ]
          },
          "metadata": {}
        }
      ]
    },
    {
      "cell_type": "code",
      "source": [
        "train_ids =  _load_pickle(\"/content/drive/MyDrive/CS231/file/Trong/id_train.pkl\")\n",
        "test_ids = _load_pickle(\"/content/drive/MyDrive/CS231/file/Trong/id_test.pkl\")"
      ],
      "metadata": {
        "id": "ydsJotMBs17M"
      },
      "execution_count": null,
      "outputs": []
    },
    {
      "cell_type": "markdown",
      "source": [
        "# Tiền xử lý dữ liệu "
      ],
      "metadata": {
        "id": "nWvJAibPrCnt"
      }
    },
    {
      "cell_type": "code",
      "source": [
        "from sklearn.preprocessing import StandardScaler\n",
        "import numpy as np\n",
        "scaler= StandardScaler()\n",
        "X = np.array(embedding)\n",
        "X=X.reshape(19589,1*128)\n",
        "X = scaler.fit_transform(X)"
      ],
      "metadata": {
        "id": "JRrmrPHyZux2"
      },
      "execution_count": null,
      "outputs": []
    },
    {
      "cell_type": "code",
      "source": [
        "def preprocess(embedding, labels):\n",
        "    X = np.array(embedding)\n",
        "    X=X.reshape(19589,1*128)\n",
        "    X = scaler.fit_transform(X)\n",
        "    y= np.array(labels)\n",
        "    y = y.astype(np.int)\n",
        "    X_train= [ X[i] for i in train_ids]\n",
        "    y_train= [ y[i] for i in train_ids]\n",
        "    X_test = [ X[i] for i in test_ids]\n",
        "    y_test = [ y[i] for i in test_ids]\n",
        "    X_train,y_train,X_test,y_test = np.array(X_train), np.array(y_train),np.array(X_test),np.array(y_test)\n",
        "    return X_train,y_train,X_test,y_test"
      ],
      "metadata": {
        "id": "o32RmI--1DdF"
      },
      "execution_count": null,
      "outputs": []
    },
    {
      "cell_type": "markdown",
      "source": [
        "# Xây dựng mạng neural network đơn giản với 2 lớp ẩn"
      ],
      "metadata": {
        "id": "RoMCMDsNrJF8"
      }
    },
    {
      "cell_type": "code",
      "source": [
        "from tensorflow.keras import Sequential\n",
        "from tensorflow.keras.layers import Dense"
      ],
      "metadata": {
        "id": "FA68SLumWTXr"
      },
      "execution_count": null,
      "outputs": []
    },
    {
      "cell_type": "code",
      "source": [
        "def create_model():\n",
        "\tmodel = Sequential()\n",
        "\tmodel.add(Dense(10, input_dim=128, activation='relu'))\n",
        "\tmodel.add(Dense(5, activation='relu'))\n",
        "\tmodel.add(Dense(1, activation='sigmoid'))\n",
        "\tmodel.compile(loss='binary_crossentropy', optimizer='adam', metrics=['accuracy'])\n",
        "\treturn model"
      ],
      "metadata": {
        "id": "nhV_PYO6ubm_"
      },
      "execution_count": null,
      "outputs": []
    },
    {
      "cell_type": "markdown",
      "source": [
        "# Huấn luyện, đánh giá "
      ],
      "metadata": {
        "id": "2drCGQfe1ywo"
      }
    },
    {
      "cell_type": "code",
      "source": [
        "class_names= [\"Other\",\"Vietnamese\"]"
      ],
      "metadata": {
        "id": "i3ZjDVnEt_M2"
      },
      "execution_count": null,
      "outputs": []
    },
    {
      "cell_type": "code",
      "source": [
        "import pandas as pd\n",
        "import matplotlib.pyplot as plt\n",
        "import seaborn as sns\n",
        "from sklearn.metrics import confusion_matrix, classification_report"
      ],
      "metadata": {
        "id": "26dfCsE0qunc"
      },
      "execution_count": null,
      "outputs": []
    },
    {
      "cell_type": "code",
      "source": [
        "def draw_cf_matrix(cf_matrix, class_names):\n",
        "    df_cm = pd.DataFrame(cf_matrix, index = [i for i in class_names],\n",
        "                    columns = [i for i in class_names])\n",
        "    plt.figure(figsize = (10,7))\n",
        "    sns.heatmap(df_cm, annot=True,fmt='g')"
      ],
      "metadata": {
        "id": "6Fe3yLFYqtx1"
      },
      "execution_count": null,
      "outputs": []
    },
    {
      "cell_type": "code",
      "source": [
        "def process(embedding, labels):\n",
        "    X_train,y_train,X_test,y_test= preprocess(embedding, labels)\n",
        "    model = create_model()\n",
        "    model.summary()\n",
        "    history= model.fit(x=X_train, y=y_train, epochs=50, batch_size=64, verbose=1)\n",
        "    y_pred = (model.predict(X_test) > 0.5).astype(\"int32\")\n",
        "    y_pred= y_pred.reshape(y_pred.shape[0])\n",
        "\n",
        "    y_pred = y_pred.astype('str')\n",
        "    for i in range(len(y_pred)):\n",
        "        y_pred[i] = class_names[int(y_pred[i])]\n",
        "\n",
        "    y_test = y_test.astype('str')\n",
        "    for i in range (len(y_test)):\n",
        "        if y_test[i]=='0':\n",
        "            y_test[i]=\"Other\"\n",
        "        else:\n",
        "            y_test[i]=\"Vietnamese\"\n",
        "    \n",
        "    print('Classification Report')\n",
        "    print(classification_report(y_test, y_pred, target_names=class_names))  \n",
        "    \n",
        "    cf_matrix = confusion_matrix(y_test, y_pred)\n",
        "    draw_cf_matrix(cf_matrix, class_names)"
      ],
      "metadata": {
        "id": "SC1aNeKR160N"
      },
      "execution_count": null,
      "outputs": []
    },
    {
      "cell_type": "markdown",
      "source": [
        "# Huấn luyện và đánh giá với hình ảnh đã qua tiền xử lý"
      ],
      "metadata": {
        "id": "wVqvqvj3rZIA"
      }
    },
    {
      "cell_type": "markdown",
      "source": [
        "## Kết quả trên nn4.small2.v1"
      ],
      "metadata": {
        "id": "r976PNSD1rY4"
      }
    },
    {
      "cell_type": "code",
      "source": [
        "process(embedding_sm1,labels)"
      ],
      "metadata": {
        "colab": {
          "base_uri": "https://localhost:8080/",
          "height": 1000
        },
        "id": "HyPT4END3oJ2",
        "outputId": "384dec57-ea05-4e9e-ab57-54f328d41b2f"
      },
      "execution_count": null,
      "outputs": [
        {
          "output_type": "stream",
          "name": "stdout",
          "text": [
            "Model: \"sequential_1\"\n",
            "_________________________________________________________________\n",
            " Layer (type)                Output Shape              Param #   \n",
            "=================================================================\n",
            " dense_3 (Dense)             (None, 10)                1290      \n",
            "                                                                 \n",
            " dense_4 (Dense)             (None, 5)                 55        \n",
            "                                                                 \n",
            " dense_5 (Dense)             (None, 1)                 6         \n",
            "                                                                 \n",
            "=================================================================\n",
            "Total params: 1,351\n",
            "Trainable params: 1,351\n",
            "Non-trainable params: 0\n",
            "_________________________________________________________________\n",
            "Epoch 1/50\n",
            "245/245 [==============================] - 1s 2ms/step - loss: 0.4986 - accuracy: 0.7625\n",
            "Epoch 2/50\n",
            "245/245 [==============================] - 0s 2ms/step - loss: 0.4532 - accuracy: 0.7933\n",
            "Epoch 3/50\n",
            "245/245 [==============================] - 1s 2ms/step - loss: 0.4463 - accuracy: 0.7971\n",
            "Epoch 4/50\n",
            "245/245 [==============================] - 1s 2ms/step - loss: 0.4428 - accuracy: 0.7978\n",
            "Epoch 5/50\n",
            "245/245 [==============================] - 1s 3ms/step - loss: 0.4395 - accuracy: 0.8003\n",
            "Epoch 6/50\n",
            "245/245 [==============================] - 1s 2ms/step - loss: 0.4373 - accuracy: 0.8008\n",
            "Epoch 7/50\n",
            "245/245 [==============================] - 1s 2ms/step - loss: 0.4356 - accuracy: 0.8017\n",
            "Epoch 8/50\n",
            "245/245 [==============================] - 1s 3ms/step - loss: 0.4354 - accuracy: 0.8036\n",
            "Epoch 9/50\n",
            "245/245 [==============================] - 1s 3ms/step - loss: 0.4329 - accuracy: 0.8028\n",
            "Epoch 10/50\n",
            "245/245 [==============================] - 1s 2ms/step - loss: 0.4321 - accuracy: 0.8022\n",
            "Epoch 11/50\n",
            "245/245 [==============================] - 1s 2ms/step - loss: 0.4309 - accuracy: 0.8063\n",
            "Epoch 12/50\n",
            "245/245 [==============================] - 1s 3ms/step - loss: 0.4298 - accuracy: 0.8050\n",
            "Epoch 13/50\n",
            "245/245 [==============================] - 1s 2ms/step - loss: 0.4287 - accuracy: 0.8070\n",
            "Epoch 14/50\n",
            "245/245 [==============================] - 1s 2ms/step - loss: 0.4283 - accuracy: 0.8071\n",
            "Epoch 15/50\n",
            "245/245 [==============================] - 1s 2ms/step - loss: 0.4274 - accuracy: 0.8061\n",
            "Epoch 16/50\n",
            "245/245 [==============================] - 1s 2ms/step - loss: 0.4263 - accuracy: 0.8083\n",
            "Epoch 17/50\n",
            "245/245 [==============================] - 1s 2ms/step - loss: 0.4265 - accuracy: 0.8087\n",
            "Epoch 18/50\n",
            "245/245 [==============================] - 1s 2ms/step - loss: 0.4258 - accuracy: 0.8082\n",
            "Epoch 19/50\n",
            "245/245 [==============================] - 1s 2ms/step - loss: 0.4245 - accuracy: 0.8081\n",
            "Epoch 20/50\n",
            "245/245 [==============================] - 1s 2ms/step - loss: 0.4244 - accuracy: 0.8079\n",
            "Epoch 21/50\n",
            "245/245 [==============================] - 1s 2ms/step - loss: 0.4241 - accuracy: 0.8080\n",
            "Epoch 22/50\n",
            "245/245 [==============================] - 1s 3ms/step - loss: 0.4228 - accuracy: 0.8094\n",
            "Epoch 23/50\n",
            "245/245 [==============================] - 1s 2ms/step - loss: 0.4224 - accuracy: 0.8086\n",
            "Epoch 24/50\n",
            "245/245 [==============================] - 1s 2ms/step - loss: 0.4224 - accuracy: 0.8085\n",
            "Epoch 25/50\n",
            "245/245 [==============================] - 1s 3ms/step - loss: 0.4221 - accuracy: 0.8089\n",
            "Epoch 26/50\n",
            "245/245 [==============================] - 1s 2ms/step - loss: 0.4215 - accuracy: 0.8097\n",
            "Epoch 27/50\n",
            "245/245 [==============================] - 1s 2ms/step - loss: 0.4211 - accuracy: 0.8107\n",
            "Epoch 28/50\n",
            "245/245 [==============================] - 1s 2ms/step - loss: 0.4208 - accuracy: 0.8118\n",
            "Epoch 29/50\n",
            "245/245 [==============================] - 1s 2ms/step - loss: 0.4210 - accuracy: 0.8111\n",
            "Epoch 30/50\n",
            "245/245 [==============================] - 1s 3ms/step - loss: 0.4196 - accuracy: 0.8123\n",
            "Epoch 31/50\n",
            "245/245 [==============================] - 1s 2ms/step - loss: 0.4195 - accuracy: 0.8104\n",
            "Epoch 32/50\n",
            "245/245 [==============================] - 1s 3ms/step - loss: 0.4195 - accuracy: 0.8114\n",
            "Epoch 33/50\n",
            "245/245 [==============================] - 1s 2ms/step - loss: 0.4194 - accuracy: 0.8100\n",
            "Epoch 34/50\n",
            "245/245 [==============================] - 1s 3ms/step - loss: 0.4191 - accuracy: 0.8112\n",
            "Epoch 35/50\n",
            "245/245 [==============================] - 1s 2ms/step - loss: 0.4181 - accuracy: 0.8114\n",
            "Epoch 36/50\n",
            "245/245 [==============================] - 1s 2ms/step - loss: 0.4182 - accuracy: 0.8109\n",
            "Epoch 37/50\n",
            "245/245 [==============================] - 1s 2ms/step - loss: 0.4177 - accuracy: 0.8111\n",
            "Epoch 38/50\n",
            "245/245 [==============================] - 1s 2ms/step - loss: 0.4180 - accuracy: 0.8114\n",
            "Epoch 39/50\n",
            "245/245 [==============================] - 1s 2ms/step - loss: 0.4174 - accuracy: 0.8111\n",
            "Epoch 40/50\n",
            "245/245 [==============================] - 1s 2ms/step - loss: 0.4176 - accuracy: 0.8123\n",
            "Epoch 41/50\n",
            "245/245 [==============================] - 1s 2ms/step - loss: 0.4169 - accuracy: 0.8116\n",
            "Epoch 42/50\n",
            "245/245 [==============================] - 1s 2ms/step - loss: 0.4172 - accuracy: 0.8119\n",
            "Epoch 43/50\n",
            "245/245 [==============================] - 1s 2ms/step - loss: 0.4166 - accuracy: 0.8127\n",
            "Epoch 44/50\n",
            "245/245 [==============================] - 1s 2ms/step - loss: 0.4165 - accuracy: 0.8126\n",
            "Epoch 45/50\n",
            "245/245 [==============================] - 0s 2ms/step - loss: 0.4164 - accuracy: 0.8116\n",
            "Epoch 46/50\n",
            "245/245 [==============================] - 0s 2ms/step - loss: 0.4157 - accuracy: 0.8129\n",
            "Epoch 47/50\n",
            "245/245 [==============================] - 0s 2ms/step - loss: 0.4153 - accuracy: 0.8125\n",
            "Epoch 48/50\n",
            "245/245 [==============================] - 0s 2ms/step - loss: 0.4155 - accuracy: 0.8118\n",
            "Epoch 49/50\n",
            "245/245 [==============================] - 1s 2ms/step - loss: 0.4153 - accuracy: 0.8124\n",
            "Epoch 50/50\n",
            "245/245 [==============================] - 0s 2ms/step - loss: 0.4155 - accuracy: 0.8119\n",
            "Classification Report\n",
            "              precision    recall  f1-score   support\n",
            "\n",
            "       Other       0.78      0.81      0.79      1918\n",
            "  Vietnamese       0.81      0.78      0.79      2000\n",
            "\n",
            "    accuracy                           0.79      3918\n",
            "   macro avg       0.79      0.79      0.79      3918\n",
            "weighted avg       0.79      0.79      0.79      3918\n",
            "\n"
          ]
        },
        {
          "output_type": "display_data",
          "data": {
            "image/png": "[encoded data removed]",
            "text/plain": [
              "<Figure size 720x504 with 2 Axes>"
            ]
          },
          "metadata": {
            "needs_background": "light"
          }
        }
      ]
    },
    {
      "cell_type": "markdown",
      "source": [],
      "metadata": {
        "id": "Hmcgw21k4Jjq"
      }
    },
    {
      "cell_type": "markdown",
      "source": [
        "## Kết quả trên nn4.small2.v2"
      ],
      "metadata": {
        "id": "RQ5ISVDu4P35"
      }
    },
    {
      "cell_type": "code",
      "source": [
        "process(embedding_sm2,labels)"
      ],
      "metadata": {
        "colab": {
          "base_uri": "https://localhost:8080/",
          "height": 1000
        },
        "id": "zj_4lmrO3-ZY",
        "outputId": "bf57cfa2-04ea-47b9-8dc1-d91ac046d351"
      },
      "execution_count": null,
      "outputs": [
        {
          "output_type": "stream",
          "name": "stdout",
          "text": [
            "Model: \"sequential_2\"\n",
            "_________________________________________________________________\n",
            " Layer (type)                Output Shape              Param #   \n",
            "=================================================================\n",
            " dense_6 (Dense)             (None, 10)                1290      \n",
            "                                                                 \n",
            " dense_7 (Dense)             (None, 5)                 55        \n",
            "                                                                 \n",
            " dense_8 (Dense)             (None, 1)                 6         \n",
            "                                                                 \n",
            "=================================================================\n",
            "Total params: 1,351\n",
            "Trainable params: 1,351\n",
            "Non-trainable params: 0\n",
            "_________________________________________________________________\n",
            "Epoch 1/50\n",
            "245/245 [==============================] - 1s 3ms/step - loss: 0.5924 - accuracy: 0.7352\n",
            "Epoch 2/50\n",
            "245/245 [==============================] - 1s 3ms/step - loss: 0.4761 - accuracy: 0.7932\n",
            "Epoch 3/50\n",
            "245/245 [==============================] - 1s 3ms/step - loss: 0.4440 - accuracy: 0.8032\n",
            "Epoch 4/50\n",
            "245/245 [==============================] - 1s 3ms/step - loss: 0.4343 - accuracy: 0.8068\n",
            "Epoch 5/50\n",
            "245/245 [==============================] - 1s 3ms/step - loss: 0.4308 - accuracy: 0.8076\n",
            "Epoch 6/50\n",
            "245/245 [==============================] - 1s 3ms/step - loss: 0.4277 - accuracy: 0.8113\n",
            "Epoch 7/50\n",
            "245/245 [==============================] - 1s 2ms/step - loss: 0.4245 - accuracy: 0.8112\n",
            "Epoch 8/50\n",
            "245/245 [==============================] - 1s 2ms/step - loss: 0.4226 - accuracy: 0.8137\n",
            "Epoch 9/50\n",
            "245/245 [==============================] - 1s 2ms/step - loss: 0.4203 - accuracy: 0.8146\n",
            "Epoch 10/50\n",
            "245/245 [==============================] - 1s 2ms/step - loss: 0.4183 - accuracy: 0.8155\n",
            "Epoch 11/50\n",
            "245/245 [==============================] - 1s 3ms/step - loss: 0.4169 - accuracy: 0.8163\n",
            "Epoch 12/50\n",
            "245/245 [==============================] - 1s 3ms/step - loss: 0.4158 - accuracy: 0.8175\n",
            "Epoch 13/50\n",
            "245/245 [==============================] - 1s 3ms/step - loss: 0.4141 - accuracy: 0.8171\n",
            "Epoch 14/50\n",
            "245/245 [==============================] - 1s 3ms/step - loss: 0.4134 - accuracy: 0.8170\n",
            "Epoch 15/50\n",
            "245/245 [==============================] - 1s 2ms/step - loss: 0.4120 - accuracy: 0.8164\n",
            "Epoch 16/50\n",
            "245/245 [==============================] - 1s 2ms/step - loss: 0.4114 - accuracy: 0.8196\n",
            "Epoch 17/50\n",
            "245/245 [==============================] - 1s 2ms/step - loss: 0.4103 - accuracy: 0.8178\n",
            "Epoch 18/50\n",
            "245/245 [==============================] - 1s 3ms/step - loss: 0.4084 - accuracy: 0.8179\n",
            "Epoch 19/50\n",
            "245/245 [==============================] - 1s 2ms/step - loss: 0.4082 - accuracy: 0.8190\n",
            "Epoch 20/50\n",
            "245/245 [==============================] - 1s 2ms/step - loss: 0.4074 - accuracy: 0.8181\n",
            "Epoch 21/50\n",
            "245/245 [==============================] - 1s 2ms/step - loss: 0.4065 - accuracy: 0.8195\n",
            "Epoch 22/50\n",
            "245/245 [==============================] - 1s 2ms/step - loss: 0.4057 - accuracy: 0.8216\n",
            "Epoch 23/50\n",
            "245/245 [==============================] - 1s 2ms/step - loss: 0.4048 - accuracy: 0.8207\n",
            "Epoch 24/50\n",
            "245/245 [==============================] - 1s 2ms/step - loss: 0.4035 - accuracy: 0.8213\n",
            "Epoch 25/50\n",
            "245/245 [==============================] - 1s 2ms/step - loss: 0.4027 - accuracy: 0.8211\n",
            "Epoch 26/50\n",
            "245/245 [==============================] - 1s 3ms/step - loss: 0.4032 - accuracy: 0.8206\n",
            "Epoch 27/50\n",
            "245/245 [==============================] - 1s 2ms/step - loss: 0.4018 - accuracy: 0.8234\n",
            "Epoch 28/50\n",
            "245/245 [==============================] - 1s 3ms/step - loss: 0.4009 - accuracy: 0.8218\n",
            "Epoch 29/50\n",
            "245/245 [==============================] - 1s 3ms/step - loss: 0.4013 - accuracy: 0.8206\n",
            "Epoch 30/50\n",
            "245/245 [==============================] - 1s 2ms/step - loss: 0.3998 - accuracy: 0.8216\n",
            "Epoch 31/50\n",
            "245/245 [==============================] - 1s 2ms/step - loss: 0.3997 - accuracy: 0.8209\n",
            "Epoch 32/50\n",
            "245/245 [==============================] - 1s 2ms/step - loss: 0.3991 - accuracy: 0.8223\n",
            "Epoch 33/50\n",
            "245/245 [==============================] - 0s 2ms/step - loss: 0.3988 - accuracy: 0.8213\n",
            "Epoch 34/50\n",
            "245/245 [==============================] - 0s 2ms/step - loss: 0.3987 - accuracy: 0.8214\n",
            "Epoch 35/50\n",
            "245/245 [==============================] - 1s 2ms/step - loss: 0.3973 - accuracy: 0.8245\n",
            "Epoch 36/50\n",
            "245/245 [==============================] - 1s 2ms/step - loss: 0.3967 - accuracy: 0.8238\n",
            "Epoch 37/50\n",
            "245/245 [==============================] - 1s 2ms/step - loss: 0.3967 - accuracy: 0.8232\n",
            "Epoch 38/50\n",
            "245/245 [==============================] - 0s 2ms/step - loss: 0.3962 - accuracy: 0.8229\n",
            "Epoch 39/50\n",
            "245/245 [==============================] - 1s 2ms/step - loss: 0.3962 - accuracy: 0.8234\n",
            "Epoch 40/50\n",
            "245/245 [==============================] - 1s 2ms/step - loss: 0.3947 - accuracy: 0.8257\n",
            "Epoch 41/50\n",
            "245/245 [==============================] - 0s 2ms/step - loss: 0.3952 - accuracy: 0.8233\n",
            "Epoch 42/50\n",
            "245/245 [==============================] - 1s 2ms/step - loss: 0.3940 - accuracy: 0.8244\n",
            "Epoch 43/50\n",
            "245/245 [==============================] - 1s 2ms/step - loss: 0.3947 - accuracy: 0.8245\n",
            "Epoch 44/50\n",
            "245/245 [==============================] - 1s 2ms/step - loss: 0.3937 - accuracy: 0.8253\n",
            "Epoch 45/50\n",
            "245/245 [==============================] - 0s 2ms/step - loss: 0.3929 - accuracy: 0.8252\n",
            "Epoch 46/50\n",
            "245/245 [==============================] - 0s 2ms/step - loss: 0.3926 - accuracy: 0.8253\n",
            "Epoch 47/50\n",
            "245/245 [==============================] - 0s 2ms/step - loss: 0.3931 - accuracy: 0.8260\n",
            "Epoch 48/50\n",
            "245/245 [==============================] - 1s 2ms/step - loss: 0.3930 - accuracy: 0.8250\n",
            "Epoch 49/50\n",
            "245/245 [==============================] - 1s 2ms/step - loss: 0.3916 - accuracy: 0.8262\n",
            "Epoch 50/50\n",
            "245/245 [==============================] - 1s 2ms/step - loss: 0.3920 - accuracy: 0.8278\n",
            "Classification Report\n",
            "              precision    recall  f1-score   support\n",
            "\n",
            "       Other       0.80      0.83      0.82      1918\n",
            "  Vietnamese       0.83      0.80      0.82      2000\n",
            "\n",
            "    accuracy                           0.82      3918\n",
            "   macro avg       0.82      0.82      0.82      3918\n",
            "weighted avg       0.82      0.82      0.82      3918\n",
            "\n"
          ]
        },
        {
          "output_type": "display_data",
          "data": {
            "image/png": "[encoded data removed]",
            "text/plain": [
              "<Figure size 720x504 with 2 Axes>"
            ]
          },
          "metadata": {
            "needs_background": "light"
          }
        }
      ]
    },
    {
      "cell_type": "markdown",
      "source": [
        "## Kết quả trên nn4.v2"
      ],
      "metadata": {
        "id": "I4idZLMV4F-c"
      }
    },
    {
      "cell_type": "code",
      "source": [
        "process(embedding_v2,labels)"
      ],
      "metadata": {
        "colab": {
          "base_uri": "https://localhost:8080/",
          "height": 1000
        },
        "id": "YZY_KddB4Gt7",
        "outputId": "46779c60-21ba-422e-9ebc-9c4a0ada2435"
      },
      "execution_count": null,
      "outputs": [
        {
          "output_type": "stream",
          "name": "stdout",
          "text": [
            "Model: \"sequential_7\"\n",
            "_________________________________________________________________\n",
            " Layer (type)                Output Shape              Param #   \n",
            "=================================================================\n",
            " dense_21 (Dense)            (None, 10)                1290      \n",
            "                                                                 \n",
            " dense_22 (Dense)            (None, 5)                 55        \n",
            "                                                                 \n",
            " dense_23 (Dense)            (None, 1)                 6         \n",
            "                                                                 \n",
            "=================================================================\n",
            "Total params: 1,351\n",
            "Trainable params: 1,351\n",
            "Non-trainable params: 0\n",
            "_________________________________________________________________\n",
            "Epoch 1/50\n",
            "245/245 [==============================] - 2s 2ms/step - loss: 0.5920 - accuracy: 0.6853\n",
            "Epoch 2/50\n",
            "245/245 [==============================] - 0s 2ms/step - loss: 0.5189 - accuracy: 0.7500\n",
            "Epoch 3/50\n",
            "245/245 [==============================] - 1s 2ms/step - loss: 0.5075 - accuracy: 0.7530\n",
            "Epoch 4/50\n",
            "245/245 [==============================] - 1s 2ms/step - loss: 0.5011 - accuracy: 0.7587\n",
            "Epoch 5/50\n",
            "245/245 [==============================] - 0s 2ms/step - loss: 0.4975 - accuracy: 0.7607\n",
            "Epoch 6/50\n",
            "245/245 [==============================] - 0s 2ms/step - loss: 0.4957 - accuracy: 0.7617\n",
            "Epoch 7/50\n",
            "245/245 [==============================] - 1s 2ms/step - loss: 0.4931 - accuracy: 0.7637\n",
            "Epoch 8/50\n",
            "245/245 [==============================] - 0s 2ms/step - loss: 0.4916 - accuracy: 0.7637\n",
            "Epoch 9/50\n",
            "245/245 [==============================] - 0s 2ms/step - loss: 0.4891 - accuracy: 0.7680\n",
            "Epoch 10/50\n",
            "245/245 [==============================] - 0s 2ms/step - loss: 0.4876 - accuracy: 0.7658\n",
            "Epoch 11/50\n",
            "245/245 [==============================] - 0s 2ms/step - loss: 0.4859 - accuracy: 0.7681\n",
            "Epoch 12/50\n",
            "245/245 [==============================] - 0s 2ms/step - loss: 0.4852 - accuracy: 0.7698\n",
            "Epoch 13/50\n",
            "245/245 [==============================] - 0s 2ms/step - loss: 0.4836 - accuracy: 0.7728\n",
            "Epoch 14/50\n",
            "245/245 [==============================] - 0s 2ms/step - loss: 0.4841 - accuracy: 0.7689\n",
            "Epoch 15/50\n",
            "245/245 [==============================] - 0s 2ms/step - loss: 0.4816 - accuracy: 0.7700\n",
            "Epoch 16/50\n",
            "245/245 [==============================] - 1s 2ms/step - loss: 0.4824 - accuracy: 0.7696\n",
            "Epoch 17/50\n",
            "245/245 [==============================] - 1s 2ms/step - loss: 0.4813 - accuracy: 0.7699\n",
            "Epoch 18/50\n",
            "245/245 [==============================] - 0s 2ms/step - loss: 0.4808 - accuracy: 0.7712\n",
            "Epoch 19/50\n",
            "245/245 [==============================] - 0s 2ms/step - loss: 0.4805 - accuracy: 0.7699\n",
            "Epoch 20/50\n",
            "245/245 [==============================] - 0s 2ms/step - loss: 0.4799 - accuracy: 0.7712\n",
            "Epoch 21/50\n",
            "245/245 [==============================] - 1s 2ms/step - loss: 0.4783 - accuracy: 0.7720\n",
            "Epoch 22/50\n",
            "245/245 [==============================] - 0s 2ms/step - loss: 0.4793 - accuracy: 0.7716\n",
            "Epoch 23/50\n",
            "245/245 [==============================] - 1s 2ms/step - loss: 0.4778 - accuracy: 0.7733\n",
            "Epoch 24/50\n",
            "245/245 [==============================] - 0s 2ms/step - loss: 0.4779 - accuracy: 0.7722\n",
            "Epoch 25/50\n",
            "245/245 [==============================] - 0s 2ms/step - loss: 0.4774 - accuracy: 0.7724\n",
            "Epoch 26/50\n",
            "245/245 [==============================] - 0s 2ms/step - loss: 0.4762 - accuracy: 0.7725\n",
            "Epoch 27/50\n",
            "245/245 [==============================] - 0s 2ms/step - loss: 0.4753 - accuracy: 0.7755\n",
            "Epoch 28/50\n",
            "245/245 [==============================] - 0s 2ms/step - loss: 0.4750 - accuracy: 0.7733\n",
            "Epoch 29/50\n",
            "245/245 [==============================] - 0s 2ms/step - loss: 0.4743 - accuracy: 0.7743\n",
            "Epoch 30/50\n",
            "245/245 [==============================] - 0s 2ms/step - loss: 0.4742 - accuracy: 0.7731\n",
            "Epoch 31/50\n",
            "245/245 [==============================] - 0s 2ms/step - loss: 0.4736 - accuracy: 0.7767\n",
            "Epoch 32/50\n",
            "245/245 [==============================] - 0s 2ms/step - loss: 0.4732 - accuracy: 0.7747\n",
            "Epoch 33/50\n",
            "245/245 [==============================] - 0s 2ms/step - loss: 0.4719 - accuracy: 0.7745\n",
            "Epoch 34/50\n",
            "245/245 [==============================] - 0s 2ms/step - loss: 0.4734 - accuracy: 0.7759\n",
            "Epoch 35/50\n",
            "245/245 [==============================] - 0s 2ms/step - loss: 0.4715 - accuracy: 0.7773\n",
            "Epoch 36/50\n",
            "245/245 [==============================] - 0s 2ms/step - loss: 0.4708 - accuracy: 0.7779\n",
            "Epoch 37/50\n",
            "245/245 [==============================] - 0s 2ms/step - loss: 0.4716 - accuracy: 0.7763\n",
            "Epoch 38/50\n",
            "245/245 [==============================] - 1s 2ms/step - loss: 0.4703 - accuracy: 0.7760\n",
            "Epoch 39/50\n",
            "245/245 [==============================] - 1s 2ms/step - loss: 0.4709 - accuracy: 0.7765\n",
            "Epoch 40/50\n",
            "245/245 [==============================] - 1s 4ms/step - loss: 0.4695 - accuracy: 0.7790\n",
            "Epoch 41/50\n",
            "245/245 [==============================] - 1s 3ms/step - loss: 0.4688 - accuracy: 0.7780\n",
            "Epoch 42/50\n",
            "245/245 [==============================] - 1s 3ms/step - loss: 0.4687 - accuracy: 0.7785\n",
            "Epoch 43/50\n",
            "245/245 [==============================] - 1s 3ms/step - loss: 0.4686 - accuracy: 0.7785\n",
            "Epoch 44/50\n",
            "245/245 [==============================] - 1s 3ms/step - loss: 0.4686 - accuracy: 0.7780\n",
            "Epoch 45/50\n",
            "245/245 [==============================] - 1s 4ms/step - loss: 0.4679 - accuracy: 0.7775\n",
            "Epoch 46/50\n",
            "245/245 [==============================] - 1s 4ms/step - loss: 0.4675 - accuracy: 0.7785\n",
            "Epoch 47/50\n",
            "245/245 [==============================] - 1s 4ms/step - loss: 0.4678 - accuracy: 0.7788\n",
            "Epoch 48/50\n",
            "245/245 [==============================] - 1s 3ms/step - loss: 0.4668 - accuracy: 0.7785\n",
            "Epoch 49/50\n",
            "245/245 [==============================] - 1s 2ms/step - loss: 0.4664 - accuracy: 0.7796\n",
            "Epoch 50/50\n",
            "245/245 [==============================] - 1s 2ms/step - loss: 0.4666 - accuracy: 0.7781\n",
            "Classification Report\n",
            "              precision    recall  f1-score   support\n",
            "\n",
            "       Other       0.76      0.77      0.76      1918\n",
            "  Vietnamese       0.78      0.76      0.77      2000\n",
            "\n",
            "    accuracy                           0.77      3918\n",
            "   macro avg       0.77      0.77      0.77      3918\n",
            "weighted avg       0.77      0.77      0.77      3918\n",
            "\n"
          ]
        },
        {
          "output_type": "display_data",
          "data": {
            "image/png": "[encoded data removed]",
            "text/plain": [
              "<Figure size 720x504 with 2 Axes>"
            ]
          },
          "metadata": {
            "needs_background": "light"
          }
        }
      ]
    },
    {
      "cell_type": "code",
      "source": [
        "process(embedding_sm1_1,labels)"
      ],
      "metadata": {
        "colab": {
          "base_uri": "https://localhost:8080/",
          "height": 1000
        },
        "id": "kvO7ITsuNV00",
        "outputId": "abc8bb19-5958-436a-db9e-3cd86584f08c"
      },
      "execution_count": null,
      "outputs": [
        {
          "output_type": "stream",
          "name": "stdout",
          "text": [
            "Model: \"sequential_1\"\n",
            "_________________________________________________________________\n",
            " Layer (type)                Output Shape              Param #   \n",
            "=================================================================\n",
            " dense_4 (Dense)             (None, 10)                1290      \n",
            "                                                                 \n",
            " dense_5 (Dense)             (None, 5)                 55        \n",
            "                                                                 \n",
            " dense_6 (Dense)             (None, 3)                 18        \n",
            "                                                                 \n",
            " dense_7 (Dense)             (None, 1)                 4         \n",
            "                                                                 \n",
            "=================================================================\n",
            "Total params: 1,367\n",
            "Trainable params: 1,367\n",
            "Non-trainable params: 0\n",
            "_________________________________________________________________\n",
            "Epoch 1/50\n",
            "245/245 [==============================] - 2s 3ms/step - loss: 0.6836 - accuracy: 0.5739\n",
            "Epoch 2/50\n",
            "245/245 [==============================] - 1s 3ms/step - loss: 0.6687 - accuracy: 0.6056\n",
            "Epoch 3/50\n",
            "245/245 [==============================] - 1s 3ms/step - loss: 0.6620 - accuracy: 0.6121\n",
            "Epoch 4/50\n",
            "245/245 [==============================] - 1s 3ms/step - loss: 0.6574 - accuracy: 0.6190\n",
            "Epoch 5/50\n",
            "245/245 [==============================] - 1s 3ms/step - loss: 0.6537 - accuracy: 0.6239\n",
            "Epoch 6/50\n",
            "245/245 [==============================] - 1s 4ms/step - loss: 0.6500 - accuracy: 0.6285\n",
            "Epoch 7/50\n",
            "245/245 [==============================] - 1s 2ms/step - loss: 0.6470 - accuracy: 0.6288\n",
            "Epoch 8/50\n",
            "245/245 [==============================] - 0s 2ms/step - loss: 0.6447 - accuracy: 0.6322\n",
            "Epoch 9/50\n",
            "245/245 [==============================] - 0s 2ms/step - loss: 0.6429 - accuracy: 0.6331\n",
            "Epoch 10/50\n",
            "245/245 [==============================] - 0s 2ms/step - loss: 0.6405 - accuracy: 0.6341\n",
            "Epoch 11/50\n",
            "245/245 [==============================] - 0s 2ms/step - loss: 0.6385 - accuracy: 0.6381\n",
            "Epoch 12/50\n",
            "245/245 [==============================] - 0s 2ms/step - loss: 0.6382 - accuracy: 0.6354\n",
            "Epoch 13/50\n",
            "245/245 [==============================] - 0s 2ms/step - loss: 0.6366 - accuracy: 0.6379\n",
            "Epoch 14/50\n",
            "245/245 [==============================] - 0s 2ms/step - loss: 0.6357 - accuracy: 0.6386\n",
            "Epoch 15/50\n",
            "245/245 [==============================] - 0s 2ms/step - loss: 0.6345 - accuracy: 0.6414\n",
            "Epoch 16/50\n",
            "245/245 [==============================] - 0s 2ms/step - loss: 0.6332 - accuracy: 0.6419\n",
            "Epoch 17/50\n",
            "245/245 [==============================] - 0s 2ms/step - loss: 0.6327 - accuracy: 0.6420\n",
            "Epoch 18/50\n",
            "245/245 [==============================] - 0s 2ms/step - loss: 0.6316 - accuracy: 0.6430\n",
            "Epoch 19/50\n",
            "245/245 [==============================] - 0s 2ms/step - loss: 0.6316 - accuracy: 0.6394\n",
            "Epoch 20/50\n",
            "245/245 [==============================] - 0s 2ms/step - loss: 0.6304 - accuracy: 0.6425\n",
            "Epoch 21/50\n",
            "245/245 [==============================] - 0s 2ms/step - loss: 0.6295 - accuracy: 0.6445\n",
            "Epoch 22/50\n",
            "245/245 [==============================] - 0s 2ms/step - loss: 0.6292 - accuracy: 0.6444\n",
            "Epoch 23/50\n",
            "245/245 [==============================] - 0s 2ms/step - loss: 0.6286 - accuracy: 0.6458\n",
            "Epoch 24/50\n",
            "245/245 [==============================] - 0s 2ms/step - loss: 0.6284 - accuracy: 0.6448\n",
            "Epoch 25/50\n",
            "245/245 [==============================] - 0s 2ms/step - loss: 0.6272 - accuracy: 0.6460\n",
            "Epoch 26/50\n",
            "245/245 [==============================] - 0s 2ms/step - loss: 0.6273 - accuracy: 0.6461\n",
            "Epoch 27/50\n",
            "245/245 [==============================] - 0s 2ms/step - loss: 0.6270 - accuracy: 0.6490\n",
            "Epoch 28/50\n",
            "245/245 [==============================] - 0s 2ms/step - loss: 0.6270 - accuracy: 0.6446\n",
            "Epoch 29/50\n",
            "245/245 [==============================] - 0s 2ms/step - loss: 0.6263 - accuracy: 0.6455\n",
            "Epoch 30/50\n",
            "245/245 [==============================] - 0s 2ms/step - loss: 0.6262 - accuracy: 0.6464\n",
            "Epoch 31/50\n",
            "245/245 [==============================] - 0s 2ms/step - loss: 0.6256 - accuracy: 0.6484\n",
            "Epoch 32/50\n",
            "245/245 [==============================] - 0s 2ms/step - loss: 0.6246 - accuracy: 0.6467\n",
            "Epoch 33/50\n",
            "245/245 [==============================] - 0s 2ms/step - loss: 0.6251 - accuracy: 0.6472\n",
            "Epoch 34/50\n",
            "245/245 [==============================] - 0s 2ms/step - loss: 0.6237 - accuracy: 0.6499\n",
            "Epoch 35/50\n",
            "245/245 [==============================] - 0s 2ms/step - loss: 0.6242 - accuracy: 0.6494\n",
            "Epoch 36/50\n",
            "245/245 [==============================] - 0s 2ms/step - loss: 0.6235 - accuracy: 0.6494\n",
            "Epoch 37/50\n",
            "245/245 [==============================] - 0s 2ms/step - loss: 0.6233 - accuracy: 0.6495\n",
            "Epoch 38/50\n",
            "245/245 [==============================] - 0s 2ms/step - loss: 0.6231 - accuracy: 0.6514\n",
            "Epoch 39/50\n",
            "245/245 [==============================] - 0s 2ms/step - loss: 0.6230 - accuracy: 0.6492\n",
            "Epoch 40/50\n",
            "245/245 [==============================] - 0s 2ms/step - loss: 0.6221 - accuracy: 0.6523\n",
            "Epoch 41/50\n",
            "245/245 [==============================] - 0s 2ms/step - loss: 0.6227 - accuracy: 0.6492\n",
            "Epoch 42/50\n",
            "245/245 [==============================] - 0s 2ms/step - loss: 0.6224 - accuracy: 0.6504\n",
            "Epoch 43/50\n",
            "245/245 [==============================] - 0s 2ms/step - loss: 0.6219 - accuracy: 0.6524\n",
            "Epoch 44/50\n",
            "245/245 [==============================] - 0s 2ms/step - loss: 0.6214 - accuracy: 0.6509\n",
            "Epoch 45/50\n",
            "245/245 [==============================] - 0s 2ms/step - loss: 0.6212 - accuracy: 0.6523\n",
            "Epoch 46/50\n",
            "245/245 [==============================] - 0s 2ms/step - loss: 0.6210 - accuracy: 0.6544\n",
            "Epoch 47/50\n",
            "245/245 [==============================] - 0s 2ms/step - loss: 0.6216 - accuracy: 0.6490\n",
            "Epoch 48/50\n",
            "245/245 [==============================] - 0s 2ms/step - loss: 0.6207 - accuracy: 0.6530\n",
            "Epoch 49/50\n",
            "245/245 [==============================] - 0s 2ms/step - loss: 0.6197 - accuracy: 0.6493\n",
            "Epoch 50/50\n",
            "245/245 [==============================] - 0s 2ms/step - loss: 0.6200 - accuracy: 0.6538\n",
            "Classification Report\n",
            "              precision    recall  f1-score   support\n",
            "\n",
            "       Other       0.62      0.58      0.60      1918\n",
            "  Vietnamese       0.62      0.66      0.64      2000\n",
            "\n",
            "    accuracy                           0.62      3918\n",
            "   macro avg       0.62      0.62      0.62      3918\n",
            "weighted avg       0.62      0.62      0.62      3918\n",
            "\n"
          ]
        },
        {
          "output_type": "display_data",
          "data": {
            "image/png": "[encoded data removed]",
            "text/plain": [
              "<Figure size 720x504 with 2 Axes>"
            ]
          },
          "metadata": {
            "needs_background": "light"
          }
        }
      ]
    },
    {
      "cell_type": "code",
      "source": [
        "process(embedding_sm2_1,labels)"
      ],
      "metadata": {
        "colab": {
          "base_uri": "https://localhost:8080/",
          "height": 1000
        },
        "id": "X7Z4kVmrNvii",
        "outputId": "92f77be5-350b-4b93-85e3-9d48c718b695"
      },
      "execution_count": null,
      "outputs": [
        {
          "output_type": "stream",
          "name": "stdout",
          "text": [
            "Model: \"sequential_2\"\n",
            "_________________________________________________________________\n",
            " Layer (type)                Output Shape              Param #   \n",
            "=================================================================\n",
            " dense_8 (Dense)             (None, 10)                1290      \n",
            "                                                                 \n",
            " dense_9 (Dense)             (None, 5)                 55        \n",
            "                                                                 \n",
            " dense_10 (Dense)            (None, 3)                 18        \n",
            "                                                                 \n",
            " dense_11 (Dense)            (None, 1)                 4         \n",
            "                                                                 \n",
            "=================================================================\n",
            "Total params: 1,367\n",
            "Trainable params: 1,367\n",
            "Non-trainable params: 0\n",
            "_________________________________________________________________\n",
            "Epoch 1/50\n",
            "245/245 [==============================] - 1s 2ms/step - loss: 0.6793 - accuracy: 0.5816\n",
            "Epoch 2/50\n",
            "245/245 [==============================] - 0s 2ms/step - loss: 0.6628 - accuracy: 0.6192\n",
            "Epoch 3/50\n",
            "245/245 [==============================] - 0s 2ms/step - loss: 0.6537 - accuracy: 0.6280\n",
            "Epoch 4/50\n",
            "245/245 [==============================] - 0s 2ms/step - loss: 0.6464 - accuracy: 0.6397\n",
            "Epoch 5/50\n",
            "245/245 [==============================] - 0s 2ms/step - loss: 0.6415 - accuracy: 0.6431\n",
            "Epoch 6/50\n",
            "245/245 [==============================] - 0s 2ms/step - loss: 0.6374 - accuracy: 0.6453\n",
            "Epoch 7/50\n",
            "245/245 [==============================] - 0s 2ms/step - loss: 0.6335 - accuracy: 0.6483\n",
            "Epoch 8/50\n",
            "245/245 [==============================] - 0s 2ms/step - loss: 0.6312 - accuracy: 0.6517\n",
            "Epoch 9/50\n",
            "245/245 [==============================] - 0s 2ms/step - loss: 0.6278 - accuracy: 0.6527\n",
            "Epoch 10/50\n",
            "245/245 [==============================] - 0s 2ms/step - loss: 0.6257 - accuracy: 0.6525\n",
            "Epoch 11/50\n",
            "245/245 [==============================] - 0s 2ms/step - loss: 0.6240 - accuracy: 0.6579\n",
            "Epoch 12/50\n",
            "245/245 [==============================] - 0s 2ms/step - loss: 0.6213 - accuracy: 0.6590\n",
            "Epoch 13/50\n",
            "245/245 [==============================] - 0s 2ms/step - loss: 0.6194 - accuracy: 0.6598\n",
            "Epoch 14/50\n",
            "245/245 [==============================] - 0s 2ms/step - loss: 0.6182 - accuracy: 0.6613\n",
            "Epoch 15/50\n",
            "245/245 [==============================] - 0s 2ms/step - loss: 0.6173 - accuracy: 0.6630\n",
            "Epoch 16/50\n",
            "245/245 [==============================] - 0s 2ms/step - loss: 0.6152 - accuracy: 0.6633\n",
            "Epoch 17/50\n",
            "245/245 [==============================] - 0s 2ms/step - loss: 0.6151 - accuracy: 0.6643\n",
            "Epoch 18/50\n",
            "245/245 [==============================] - 0s 2ms/step - loss: 0.6132 - accuracy: 0.6667\n",
            "Epoch 19/50\n",
            "245/245 [==============================] - 0s 2ms/step - loss: 0.6123 - accuracy: 0.6673\n",
            "Epoch 20/50\n",
            "245/245 [==============================] - 0s 2ms/step - loss: 0.6107 - accuracy: 0.6702\n",
            "Epoch 21/50\n",
            "245/245 [==============================] - 0s 2ms/step - loss: 0.6112 - accuracy: 0.6695\n",
            "Epoch 22/50\n",
            "245/245 [==============================] - 0s 2ms/step - loss: 0.6103 - accuracy: 0.6702\n",
            "Epoch 23/50\n",
            "245/245 [==============================] - 0s 2ms/step - loss: 0.6094 - accuracy: 0.6702\n",
            "Epoch 24/50\n",
            "245/245 [==============================] - 0s 2ms/step - loss: 0.6080 - accuracy: 0.6695\n",
            "Epoch 25/50\n",
            "245/245 [==============================] - 0s 2ms/step - loss: 0.6073 - accuracy: 0.6700\n",
            "Epoch 26/50\n",
            "245/245 [==============================] - 0s 2ms/step - loss: 0.6069 - accuracy: 0.6749\n",
            "Epoch 27/50\n",
            "245/245 [==============================] - 0s 2ms/step - loss: 0.6060 - accuracy: 0.6743\n",
            "Epoch 28/50\n",
            "245/245 [==============================] - 0s 2ms/step - loss: 0.6057 - accuracy: 0.6728\n",
            "Epoch 29/50\n",
            "245/245 [==============================] - 0s 2ms/step - loss: 0.6047 - accuracy: 0.6719\n",
            "Epoch 30/50\n",
            "245/245 [==============================] - 0s 2ms/step - loss: 0.6042 - accuracy: 0.6742\n",
            "Epoch 31/50\n",
            "245/245 [==============================] - 0s 2ms/step - loss: 0.6037 - accuracy: 0.6734\n",
            "Epoch 32/50\n",
            "245/245 [==============================] - 0s 2ms/step - loss: 0.6030 - accuracy: 0.6770\n",
            "Epoch 33/50\n",
            "245/245 [==============================] - 0s 2ms/step - loss: 0.6035 - accuracy: 0.6746\n",
            "Epoch 34/50\n",
            "245/245 [==============================] - 0s 2ms/step - loss: 0.6023 - accuracy: 0.6770\n",
            "Epoch 35/50\n",
            "245/245 [==============================] - 0s 2ms/step - loss: 0.6023 - accuracy: 0.6767\n",
            "Epoch 36/50\n",
            "245/245 [==============================] - 0s 2ms/step - loss: 0.6010 - accuracy: 0.6765\n",
            "Epoch 37/50\n",
            "245/245 [==============================] - 0s 2ms/step - loss: 0.6013 - accuracy: 0.6768\n",
            "Epoch 38/50\n",
            "245/245 [==============================] - 0s 2ms/step - loss: 0.6007 - accuracy: 0.6767\n",
            "Epoch 39/50\n",
            "245/245 [==============================] - 0s 2ms/step - loss: 0.6007 - accuracy: 0.6748\n",
            "Epoch 40/50\n",
            "245/245 [==============================] - 0s 2ms/step - loss: 0.5995 - accuracy: 0.6772\n",
            "Epoch 41/50\n",
            "245/245 [==============================] - 0s 2ms/step - loss: 0.5993 - accuracy: 0.6792\n",
            "Epoch 42/50\n",
            "245/245 [==============================] - 0s 2ms/step - loss: 0.5993 - accuracy: 0.6770\n",
            "Epoch 43/50\n",
            "245/245 [==============================] - 0s 2ms/step - loss: 0.5992 - accuracy: 0.6756\n",
            "Epoch 44/50\n",
            "245/245 [==============================] - 0s 2ms/step - loss: 0.5980 - accuracy: 0.6777\n",
            "Epoch 45/50\n",
            "245/245 [==============================] - 0s 2ms/step - loss: 0.5977 - accuracy: 0.6774\n",
            "Epoch 46/50\n",
            "245/245 [==============================] - 0s 2ms/step - loss: 0.5979 - accuracy: 0.6772\n",
            "Epoch 47/50\n",
            "245/245 [==============================] - 0s 2ms/step - loss: 0.5982 - accuracy: 0.6785\n",
            "Epoch 48/50\n",
            "245/245 [==============================] - 0s 2ms/step - loss: 0.5966 - accuracy: 0.6801\n",
            "Epoch 49/50\n",
            "245/245 [==============================] - 0s 2ms/step - loss: 0.5967 - accuracy: 0.6770\n",
            "Epoch 50/50\n",
            "245/245 [==============================] - 0s 2ms/step - loss: 0.5963 - accuracy: 0.6784\n",
            "Classification Report\n",
            "              precision    recall  f1-score   support\n",
            "\n",
            "       Other       0.63      0.64      0.63      1918\n",
            "  Vietnamese       0.65      0.63      0.64      2000\n",
            "\n",
            "    accuracy                           0.64      3918\n",
            "   macro avg       0.64      0.64      0.64      3918\n",
            "weighted avg       0.64      0.64      0.64      3918\n",
            "\n"
          ]
        },
        {
          "output_type": "display_data",
          "data": {
            "image/png": "[encoded data removed]",
            "text/plain": [
              "<Figure size 720x504 with 2 Axes>"
            ]
          },
          "metadata": {
            "needs_background": "light"
          }
        }
      ]
    },
    {
      "cell_type": "code",
      "source": [
        "process(embedding_v2_1,labels)"
      ],
      "metadata": {
        "colab": {
          "base_uri": "https://localhost:8080/",
          "height": 1000
        },
        "id": "pm3LZdTOOKUL",
        "outputId": "374513ed-17e2-4798-998c-a565812e4abc"
      },
      "execution_count": null,
      "outputs": [
        {
          "output_type": "stream",
          "name": "stdout",
          "text": [
            "Model: \"sequential_3\"\n",
            "_________________________________________________________________\n",
            " Layer (type)                Output Shape              Param #   \n",
            "=================================================================\n",
            " dense_12 (Dense)            (None, 10)                1290      \n",
            "                                                                 \n",
            " dense_13 (Dense)            (None, 5)                 55        \n",
            "                                                                 \n",
            " dense_14 (Dense)            (None, 3)                 18        \n",
            "                                                                 \n",
            " dense_15 (Dense)            (None, 1)                 4         \n",
            "                                                                 \n",
            "=================================================================\n",
            "Total params: 1,367\n",
            "Trainable params: 1,367\n",
            "Non-trainable params: 0\n",
            "_________________________________________________________________\n",
            "Epoch 1/50\n",
            "245/245 [==============================] - 2s 3ms/step - loss: 0.6764 - accuracy: 0.5735\n",
            "Epoch 2/50\n",
            "245/245 [==============================] - 1s 3ms/step - loss: 0.6621 - accuracy: 0.5959\n",
            "Epoch 3/50\n",
            "245/245 [==============================] - 1s 3ms/step - loss: 0.6569 - accuracy: 0.6058\n",
            "Epoch 4/50\n",
            "245/245 [==============================] - 1s 3ms/step - loss: 0.6543 - accuracy: 0.6115\n",
            "Epoch 5/50\n",
            "245/245 [==============================] - 1s 3ms/step - loss: 0.6511 - accuracy: 0.6144\n",
            "Epoch 6/50\n",
            "245/245 [==============================] - 0s 2ms/step - loss: 0.6500 - accuracy: 0.6151\n",
            "Epoch 7/50\n",
            "245/245 [==============================] - 0s 2ms/step - loss: 0.6492 - accuracy: 0.6179\n",
            "Epoch 8/50\n",
            "245/245 [==============================] - 0s 2ms/step - loss: 0.6486 - accuracy: 0.6155\n",
            "Epoch 9/50\n",
            "245/245 [==============================] - 0s 2ms/step - loss: 0.6466 - accuracy: 0.6201\n",
            "Epoch 10/50\n",
            "245/245 [==============================] - 0s 2ms/step - loss: 0.6458 - accuracy: 0.6217\n",
            "Epoch 11/50\n",
            "245/245 [==============================] - 0s 2ms/step - loss: 0.6457 - accuracy: 0.6192\n",
            "Epoch 12/50\n",
            "245/245 [==============================] - 0s 2ms/step - loss: 0.6438 - accuracy: 0.6256\n",
            "Epoch 13/50\n",
            "245/245 [==============================] - 0s 2ms/step - loss: 0.6439 - accuracy: 0.6218\n",
            "Epoch 14/50\n",
            "245/245 [==============================] - 0s 2ms/step - loss: 0.6434 - accuracy: 0.6243\n",
            "Epoch 15/50\n",
            "245/245 [==============================] - 0s 2ms/step - loss: 0.6427 - accuracy: 0.6231\n",
            "Epoch 16/50\n",
            "245/245 [==============================] - 0s 2ms/step - loss: 0.6427 - accuracy: 0.6228\n",
            "Epoch 17/50\n",
            "245/245 [==============================] - 0s 2ms/step - loss: 0.6418 - accuracy: 0.6273\n",
            "Epoch 18/50\n",
            "245/245 [==============================] - 0s 2ms/step - loss: 0.6420 - accuracy: 0.6236\n",
            "Epoch 19/50\n",
            "245/245 [==============================] - 0s 2ms/step - loss: 0.6418 - accuracy: 0.6240\n",
            "Epoch 20/50\n",
            "245/245 [==============================] - 0s 2ms/step - loss: 0.6409 - accuracy: 0.6289\n",
            "Epoch 21/50\n",
            "245/245 [==============================] - 0s 2ms/step - loss: 0.6407 - accuracy: 0.6236\n",
            "Epoch 22/50\n",
            "245/245 [==============================] - 0s 2ms/step - loss: 0.6408 - accuracy: 0.6261\n",
            "Epoch 23/50\n",
            "245/245 [==============================] - 0s 2ms/step - loss: 0.6408 - accuracy: 0.6282\n",
            "Epoch 24/50\n",
            "245/245 [==============================] - 0s 2ms/step - loss: 0.6401 - accuracy: 0.6274\n",
            "Epoch 25/50\n",
            "245/245 [==============================] - 0s 2ms/step - loss: 0.6388 - accuracy: 0.6303\n",
            "Epoch 26/50\n",
            "245/245 [==============================] - 0s 2ms/step - loss: 0.6392 - accuracy: 0.6270\n",
            "Epoch 27/50\n",
            "245/245 [==============================] - 0s 2ms/step - loss: 0.6396 - accuracy: 0.6280\n",
            "Epoch 28/50\n",
            "245/245 [==============================] - 0s 2ms/step - loss: 0.6381 - accuracy: 0.6284\n",
            "Epoch 29/50\n",
            "245/245 [==============================] - 0s 2ms/step - loss: 0.6381 - accuracy: 0.6300\n",
            "Epoch 30/50\n",
            "245/245 [==============================] - 0s 2ms/step - loss: 0.6382 - accuracy: 0.6307\n",
            "Epoch 31/50\n",
            "245/245 [==============================] - 0s 2ms/step - loss: 0.6378 - accuracy: 0.6300\n",
            "Epoch 32/50\n",
            "245/245 [==============================] - 0s 2ms/step - loss: 0.6382 - accuracy: 0.6321\n",
            "Epoch 33/50\n",
            "245/245 [==============================] - 0s 2ms/step - loss: 0.6379 - accuracy: 0.6291\n",
            "Epoch 34/50\n",
            "245/245 [==============================] - 0s 2ms/step - loss: 0.6382 - accuracy: 0.6313\n",
            "Epoch 35/50\n",
            "245/245 [==============================] - 0s 2ms/step - loss: 0.6376 - accuracy: 0.6326\n",
            "Epoch 36/50\n",
            "245/245 [==============================] - 0s 2ms/step - loss: 0.6376 - accuracy: 0.6308\n",
            "Epoch 37/50\n",
            "245/245 [==============================] - 0s 2ms/step - loss: 0.6376 - accuracy: 0.6298\n",
            "Epoch 38/50\n",
            "245/245 [==============================] - 0s 2ms/step - loss: 0.6373 - accuracy: 0.6300\n",
            "Epoch 39/50\n",
            "245/245 [==============================] - 0s 2ms/step - loss: 0.6368 - accuracy: 0.6280\n",
            "Epoch 40/50\n",
            "245/245 [==============================] - 0s 2ms/step - loss: 0.6372 - accuracy: 0.6276\n",
            "Epoch 41/50\n",
            "245/245 [==============================] - 0s 2ms/step - loss: 0.6357 - accuracy: 0.6328\n",
            "Epoch 42/50\n",
            "245/245 [==============================] - 0s 2ms/step - loss: 0.6364 - accuracy: 0.6319\n",
            "Epoch 43/50\n",
            "245/245 [==============================] - 0s 2ms/step - loss: 0.6363 - accuracy: 0.6318\n",
            "Epoch 44/50\n",
            "245/245 [==============================] - 0s 2ms/step - loss: 0.6363 - accuracy: 0.6308\n",
            "Epoch 45/50\n",
            "245/245 [==============================] - 0s 2ms/step - loss: 0.6366 - accuracy: 0.6311\n",
            "Epoch 46/50\n",
            "245/245 [==============================] - 0s 2ms/step - loss: 0.6356 - accuracy: 0.6312\n",
            "Epoch 47/50\n",
            "245/245 [==============================] - 0s 2ms/step - loss: 0.6358 - accuracy: 0.6339\n",
            "Epoch 48/50\n",
            "245/245 [==============================] - 0s 2ms/step - loss: 0.6358 - accuracy: 0.6310\n",
            "Epoch 49/50\n",
            "245/245 [==============================] - 0s 2ms/step - loss: 0.6351 - accuracy: 0.6345\n",
            "Epoch 50/50\n",
            "245/245 [==============================] - 0s 2ms/step - loss: 0.6350 - accuracy: 0.6313\n",
            "Classification Report\n",
            "              precision    recall  f1-score   support\n",
            "\n",
            "       Other       0.59      0.60      0.60      1918\n",
            "  Vietnamese       0.61      0.60      0.61      2000\n",
            "\n",
            "    accuracy                           0.60      3918\n",
            "   macro avg       0.60      0.60      0.60      3918\n",
            "weighted avg       0.60      0.60      0.60      3918\n",
            "\n"
          ]
        },
        {
          "output_type": "display_data",
          "data": {
            "image/png": "[encoded data removed]",
            "text/plain": [
              "<Figure size 720x504 with 2 Axes>"
            ]
          },
          "metadata": {
            "needs_background": "light"
          }
        }
      ]
    },
    {
      "cell_type": "markdown",
      "source": [
        "#Huấn luyện và đánh giá với hình ảnh chưa qua tiền xử lý"
      ],
      "metadata": {
        "id": "gJlfRyrTEMzR"
      }
    },
    {
      "cell_type": "markdown",
      "source": [
        "## Kết quả trên nn4.small2.v1"
      ],
      "metadata": {
        "id": "YjRDNI0GEgsB"
      }
    },
    {
      "cell_type": "code",
      "source": [
        "process(embedding_sm1_1,labels)"
      ],
      "metadata": {
        "colab": {
          "base_uri": "https://localhost:8080/",
          "height": 1000
        },
        "id": "TBvePG02ESoI",
        "outputId": "67533659-cb1a-4357-b13e-bf315672d4fc"
      },
      "execution_count": null,
      "outputs": [
        {
          "output_type": "stream",
          "name": "stdout",
          "text": [
            "Model: \"sequential_3\"\n",
            "_________________________________________________________________\n",
            " Layer (type)                Output Shape              Param #   \n",
            "=================================================================\n",
            " dense_9 (Dense)             (None, 10)                1290      \n",
            "                                                                 \n",
            " dense_10 (Dense)            (None, 5)                 55        \n",
            "                                                                 \n",
            " dense_11 (Dense)            (None, 1)                 6         \n",
            "                                                                 \n",
            "=================================================================\n",
            "Total params: 1,351\n",
            "Trainable params: 1,351\n",
            "Non-trainable params: 0\n",
            "_________________________________________________________________\n",
            "Epoch 1/50\n",
            "245/245 [==============================] - 1s 2ms/step - loss: 0.6809 - accuracy: 0.5797\n",
            "Epoch 2/50\n",
            "245/245 [==============================] - 1s 2ms/step - loss: 0.6530 - accuracy: 0.6121\n",
            "Epoch 3/50\n",
            "245/245 [==============================] - 1s 2ms/step - loss: 0.6459 - accuracy: 0.6195\n",
            "Epoch 4/50\n",
            "245/245 [==============================] - 1s 3ms/step - loss: 0.6425 - accuracy: 0.6239\n",
            "Epoch 5/50\n",
            "245/245 [==============================] - 1s 2ms/step - loss: 0.6399 - accuracy: 0.6274\n",
            "Epoch 6/50\n",
            "245/245 [==============================] - 1s 2ms/step - loss: 0.6372 - accuracy: 0.6297\n",
            "Epoch 7/50\n",
            "245/245 [==============================] - 1s 2ms/step - loss: 0.6358 - accuracy: 0.6317\n",
            "Epoch 8/50\n",
            "245/245 [==============================] - 1s 2ms/step - loss: 0.6343 - accuracy: 0.6319\n",
            "Epoch 9/50\n",
            "245/245 [==============================] - 1s 2ms/step - loss: 0.6329 - accuracy: 0.6333\n",
            "Epoch 10/50\n",
            "245/245 [==============================] - 1s 2ms/step - loss: 0.6318 - accuracy: 0.6346\n",
            "Epoch 11/50\n",
            "245/245 [==============================] - 1s 2ms/step - loss: 0.6304 - accuracy: 0.6350\n",
            "Epoch 12/50\n",
            "245/245 [==============================] - 1s 3ms/step - loss: 0.6284 - accuracy: 0.6367\n",
            "Epoch 13/50\n",
            "245/245 [==============================] - 1s 3ms/step - loss: 0.6275 - accuracy: 0.6407\n",
            "Epoch 14/50\n",
            "245/245 [==============================] - 1s 3ms/step - loss: 0.6267 - accuracy: 0.6416\n",
            "Epoch 15/50\n",
            "245/245 [==============================] - 1s 4ms/step - loss: 0.6258 - accuracy: 0.6465\n",
            "Epoch 16/50\n",
            "245/245 [==============================] - 1s 4ms/step - loss: 0.6252 - accuracy: 0.6426\n",
            "Epoch 17/50\n",
            "245/245 [==============================] - 1s 3ms/step - loss: 0.6242 - accuracy: 0.6452\n",
            "Epoch 18/50\n",
            "245/245 [==============================] - 1s 3ms/step - loss: 0.6241 - accuracy: 0.6437\n",
            "Epoch 19/50\n",
            "245/245 [==============================] - 1s 3ms/step - loss: 0.6234 - accuracy: 0.6449\n",
            "Epoch 20/50\n",
            "245/245 [==============================] - 1s 3ms/step - loss: 0.6233 - accuracy: 0.6435\n",
            "Epoch 21/50\n",
            "245/245 [==============================] - 1s 3ms/step - loss: 0.6220 - accuracy: 0.6454\n",
            "Epoch 22/50\n",
            "245/245 [==============================] - 1s 2ms/step - loss: 0.6215 - accuracy: 0.6455\n",
            "Epoch 23/50\n",
            "245/245 [==============================] - 1s 3ms/step - loss: 0.6212 - accuracy: 0.6474\n",
            "Epoch 24/50\n",
            "245/245 [==============================] - 1s 2ms/step - loss: 0.6205 - accuracy: 0.6481\n",
            "Epoch 25/50\n",
            "245/245 [==============================] - 1s 3ms/step - loss: 0.6200 - accuracy: 0.6490\n",
            "Epoch 26/50\n",
            "245/245 [==============================] - 1s 3ms/step - loss: 0.6192 - accuracy: 0.6475\n",
            "Epoch 27/50\n",
            "245/245 [==============================] - 1s 3ms/step - loss: 0.6189 - accuracy: 0.6489\n",
            "Epoch 28/50\n",
            "245/245 [==============================] - 1s 3ms/step - loss: 0.6192 - accuracy: 0.6476\n",
            "Epoch 29/50\n",
            "245/245 [==============================] - 1s 3ms/step - loss: 0.6189 - accuracy: 0.6497\n",
            "Epoch 30/50\n",
            "245/245 [==============================] - 1s 3ms/step - loss: 0.6182 - accuracy: 0.6473\n",
            "Epoch 31/50\n",
            "245/245 [==============================] - 1s 3ms/step - loss: 0.6174 - accuracy: 0.6511\n",
            "Epoch 32/50\n",
            "245/245 [==============================] - 1s 3ms/step - loss: 0.6170 - accuracy: 0.6527\n",
            "Epoch 33/50\n",
            "245/245 [==============================] - 1s 3ms/step - loss: 0.6173 - accuracy: 0.6513\n",
            "Epoch 34/50\n",
            "245/245 [==============================] - 1s 3ms/step - loss: 0.6168 - accuracy: 0.6536\n",
            "Epoch 35/50\n",
            "245/245 [==============================] - 1s 3ms/step - loss: 0.6160 - accuracy: 0.6519\n",
            "Epoch 36/50\n",
            "245/245 [==============================] - 1s 2ms/step - loss: 0.6162 - accuracy: 0.6521\n",
            "Epoch 37/50\n",
            "245/245 [==============================] - 1s 3ms/step - loss: 0.6159 - accuracy: 0.6559\n",
            "Epoch 38/50\n",
            "245/245 [==============================] - 1s 3ms/step - loss: 0.6159 - accuracy: 0.6518\n",
            "Epoch 39/50\n",
            "245/245 [==============================] - 1s 3ms/step - loss: 0.6158 - accuracy: 0.6527\n",
            "Epoch 40/50\n",
            "245/245 [==============================] - 1s 2ms/step - loss: 0.6145 - accuracy: 0.6561\n",
            "Epoch 41/50\n",
            "245/245 [==============================] - 1s 3ms/step - loss: 0.6148 - accuracy: 0.6506\n",
            "Epoch 42/50\n",
            "245/245 [==============================] - 1s 3ms/step - loss: 0.6135 - accuracy: 0.6566\n",
            "Epoch 43/50\n",
            "245/245 [==============================] - 1s 2ms/step - loss: 0.6151 - accuracy: 0.6547\n",
            "Epoch 44/50\n",
            "245/245 [==============================] - 1s 2ms/step - loss: 0.6142 - accuracy: 0.6532\n",
            "Epoch 45/50\n",
            "245/245 [==============================] - 1s 2ms/step - loss: 0.6145 - accuracy: 0.6515\n",
            "Epoch 46/50\n",
            "245/245 [==============================] - 1s 2ms/step - loss: 0.6137 - accuracy: 0.6559\n",
            "Epoch 47/50\n",
            "245/245 [==============================] - 1s 2ms/step - loss: 0.6136 - accuracy: 0.6550\n",
            "Epoch 48/50\n",
            "245/245 [==============================] - 1s 2ms/step - loss: 0.6134 - accuracy: 0.6545\n",
            "Epoch 49/50\n",
            "245/245 [==============================] - 1s 2ms/step - loss: 0.6132 - accuracy: 0.6561\n",
            "Epoch 50/50\n",
            "245/245 [==============================] - 0s 2ms/step - loss: 0.6131 - accuracy: 0.6548\n",
            "Classification Report\n",
            "              precision    recall  f1-score   support\n",
            "\n",
            "       Other       0.61      0.62      0.61      1918\n",
            "  Vietnamese       0.63      0.62      0.63      2000\n",
            "\n",
            "    accuracy                           0.62      3918\n",
            "   macro avg       0.62      0.62      0.62      3918\n",
            "weighted avg       0.62      0.62      0.62      3918\n",
            "\n"
          ]
        },
        {
          "output_type": "display_data",
          "data": {
            "image/png": "[encoded data removed]",
            "text/plain": [
              "<Figure size 720x504 with 2 Axes>"
            ]
          },
          "metadata": {
            "needs_background": "light"
          }
        }
      ]
    },
    {
      "cell_type": "markdown",
      "source": [
        "## Kết quả trên nn4.small2.v2"
      ],
      "metadata": {
        "id": "qh_F0G1QEvqq"
      }
    },
    {
      "cell_type": "code",
      "source": [
        "process(embedding_sm2_1,labels)"
      ],
      "metadata": {
        "colab": {
          "base_uri": "https://localhost:8080/",
          "height": 1000
        },
        "id": "PWRk2LiYE3wi",
        "outputId": "25489dc3-452d-4620-b454-d6e76b8a41fa"
      },
      "execution_count": null,
      "outputs": [
        {
          "output_type": "stream",
          "name": "stdout",
          "text": [
            "Model: \"sequential_4\"\n",
            "_________________________________________________________________\n",
            " Layer (type)                Output Shape              Param #   \n",
            "=================================================================\n",
            " dense_12 (Dense)            (None, 10)                1290      \n",
            "                                                                 \n",
            " dense_13 (Dense)            (None, 5)                 55        \n",
            "                                                                 \n",
            " dense_14 (Dense)            (None, 1)                 6         \n",
            "                                                                 \n",
            "=================================================================\n",
            "Total params: 1,351\n",
            "Trainable params: 1,351\n",
            "Non-trainable params: 0\n",
            "_________________________________________________________________\n",
            "Epoch 1/50\n",
            "245/245 [==============================] - 1s 2ms/step - loss: 0.6761 - accuracy: 0.5670\n",
            "Epoch 2/50\n",
            "245/245 [==============================] - 0s 2ms/step - loss: 0.6461 - accuracy: 0.6211\n",
            "Epoch 3/50\n",
            "245/245 [==============================] - 0s 2ms/step - loss: 0.6373 - accuracy: 0.6339\n",
            "Epoch 4/50\n",
            "245/245 [==============================] - 0s 2ms/step - loss: 0.6318 - accuracy: 0.6417\n",
            "Epoch 5/50\n",
            "245/245 [==============================] - 0s 2ms/step - loss: 0.6285 - accuracy: 0.6437\n",
            "Epoch 6/50\n",
            "245/245 [==============================] - 1s 2ms/step - loss: 0.6250 - accuracy: 0.6437\n",
            "Epoch 7/50\n",
            "245/245 [==============================] - 0s 2ms/step - loss: 0.6231 - accuracy: 0.6478\n",
            "Epoch 8/50\n",
            "245/245 [==============================] - 0s 2ms/step - loss: 0.6202 - accuracy: 0.6518\n",
            "Epoch 9/50\n",
            "245/245 [==============================] - 0s 2ms/step - loss: 0.6185 - accuracy: 0.6516\n",
            "Epoch 10/50\n",
            "245/245 [==============================] - 1s 2ms/step - loss: 0.6168 - accuracy: 0.6555\n",
            "Epoch 11/50\n",
            "245/245 [==============================] - 1s 2ms/step - loss: 0.6154 - accuracy: 0.6571\n",
            "Epoch 12/50\n",
            "245/245 [==============================] - 0s 2ms/step - loss: 0.6146 - accuracy: 0.6587\n",
            "Epoch 13/50\n",
            "245/245 [==============================] - 0s 2ms/step - loss: 0.6130 - accuracy: 0.6587\n",
            "Epoch 14/50\n",
            "245/245 [==============================] - 0s 2ms/step - loss: 0.6125 - accuracy: 0.6564\n",
            "Epoch 15/50\n",
            "245/245 [==============================] - 0s 2ms/step - loss: 0.6116 - accuracy: 0.6622\n",
            "Epoch 16/50\n",
            "245/245 [==============================] - 1s 3ms/step - loss: 0.6106 - accuracy: 0.6624\n",
            "Epoch 17/50\n",
            "245/245 [==============================] - 1s 2ms/step - loss: 0.6109 - accuracy: 0.6622\n",
            "Epoch 18/50\n",
            "245/245 [==============================] - 1s 2ms/step - loss: 0.6093 - accuracy: 0.6633\n",
            "Epoch 19/50\n",
            "245/245 [==============================] - 1s 2ms/step - loss: 0.6085 - accuracy: 0.6649\n",
            "Epoch 20/50\n",
            "245/245 [==============================] - 1s 3ms/step - loss: 0.6087 - accuracy: 0.6658\n",
            "Epoch 21/50\n",
            "245/245 [==============================] - 1s 2ms/step - loss: 0.6074 - accuracy: 0.6636\n",
            "Epoch 22/50\n",
            "245/245 [==============================] - 1s 2ms/step - loss: 0.6075 - accuracy: 0.6633\n",
            "Epoch 23/50\n",
            "245/245 [==============================] - 1s 2ms/step - loss: 0.6065 - accuracy: 0.6648\n",
            "Epoch 24/50\n",
            "245/245 [==============================] - 1s 2ms/step - loss: 0.6065 - accuracy: 0.6637\n",
            "Epoch 25/50\n",
            "245/245 [==============================] - 1s 2ms/step - loss: 0.6054 - accuracy: 0.6663\n",
            "Epoch 26/50\n",
            "245/245 [==============================] - 1s 2ms/step - loss: 0.6053 - accuracy: 0.6684\n",
            "Epoch 27/50\n",
            "245/245 [==============================] - 1s 2ms/step - loss: 0.6047 - accuracy: 0.6687\n",
            "Epoch 28/50\n",
            "245/245 [==============================] - 1s 2ms/step - loss: 0.6034 - accuracy: 0.6706\n",
            "Epoch 29/50\n",
            "245/245 [==============================] - 1s 2ms/step - loss: 0.6034 - accuracy: 0.6702\n",
            "Epoch 30/50\n",
            "245/245 [==============================] - 1s 2ms/step - loss: 0.6035 - accuracy: 0.6702\n",
            "Epoch 31/50\n",
            "245/245 [==============================] - 1s 2ms/step - loss: 0.6027 - accuracy: 0.6694\n",
            "Epoch 32/50\n",
            "245/245 [==============================] - 1s 2ms/step - loss: 0.6021 - accuracy: 0.6710\n",
            "Epoch 33/50\n",
            "245/245 [==============================] - 0s 2ms/step - loss: 0.6019 - accuracy: 0.6702\n",
            "Epoch 34/50\n",
            "245/245 [==============================] - 1s 2ms/step - loss: 0.6009 - accuracy: 0.6736\n",
            "Epoch 35/50\n",
            "245/245 [==============================] - 1s 2ms/step - loss: 0.6021 - accuracy: 0.6711\n",
            "Epoch 36/50\n",
            "245/245 [==============================] - 1s 2ms/step - loss: 0.5999 - accuracy: 0.6704\n",
            "Epoch 37/50\n",
            "245/245 [==============================] - 1s 2ms/step - loss: 0.5996 - accuracy: 0.6702\n",
            "Epoch 38/50\n",
            "245/245 [==============================] - 1s 3ms/step - loss: 0.6003 - accuracy: 0.6691\n",
            "Epoch 39/50\n",
            "245/245 [==============================] - 1s 2ms/step - loss: 0.5997 - accuracy: 0.6726\n",
            "Epoch 40/50\n",
            "245/245 [==============================] - 1s 2ms/step - loss: 0.5996 - accuracy: 0.6719\n",
            "Epoch 41/50\n",
            "245/245 [==============================] - 1s 2ms/step - loss: 0.5983 - accuracy: 0.6705\n",
            "Epoch 42/50\n",
            "245/245 [==============================] - 1s 2ms/step - loss: 0.5980 - accuracy: 0.6726\n",
            "Epoch 43/50\n",
            "245/245 [==============================] - 1s 2ms/step - loss: 0.5979 - accuracy: 0.6718\n",
            "Epoch 44/50\n",
            "245/245 [==============================] - 1s 2ms/step - loss: 0.5988 - accuracy: 0.6731\n",
            "Epoch 45/50\n",
            "245/245 [==============================] - 1s 2ms/step - loss: 0.5977 - accuracy: 0.6721\n",
            "Epoch 46/50\n",
            "245/245 [==============================] - 1s 2ms/step - loss: 0.5969 - accuracy: 0.6743\n",
            "Epoch 47/50\n",
            "245/245 [==============================] - 1s 2ms/step - loss: 0.5969 - accuracy: 0.6743\n",
            "Epoch 48/50\n",
            "245/245 [==============================] - 1s 2ms/step - loss: 0.5972 - accuracy: 0.6735\n",
            "Epoch 49/50\n",
            "245/245 [==============================] - 1s 2ms/step - loss: 0.5967 - accuracy: 0.6744\n",
            "Epoch 50/50\n",
            "245/245 [==============================] - 1s 2ms/step - loss: 0.5964 - accuracy: 0.6743\n",
            "Classification Report\n",
            "              precision    recall  f1-score   support\n",
            "\n",
            "       Other       0.64      0.63      0.63      1918\n",
            "  Vietnamese       0.65      0.66      0.66      2000\n",
            "\n",
            "    accuracy                           0.64      3918\n",
            "   macro avg       0.64      0.64      0.64      3918\n",
            "weighted avg       0.64      0.64      0.64      3918\n",
            "\n"
          ]
        },
        {
          "output_type": "display_data",
          "data": {
            "image/png": "[encoded data removed]",
            "text/plain": [
              "<Figure size 720x504 with 2 Axes>"
            ]
          },
          "metadata": {
            "needs_background": "light"
          }
        }
      ]
    },
    {
      "cell_type": "markdown",
      "source": [
        "##Kết quả trên nn4.v2"
      ],
      "metadata": {
        "id": "VbGtLR98E-C8"
      }
    },
    {
      "cell_type": "code",
      "source": [
        "process(embedding_v2_1,labels)"
      ],
      "metadata": {
        "colab": {
          "base_uri": "https://localhost:8080/",
          "height": 1000
        },
        "id": "GDqiTnW6FE8j",
        "outputId": "7759e426-ea14-4e51-dd20-f19f6531af79"
      },
      "execution_count": null,
      "outputs": [
        {
          "output_type": "stream",
          "name": "stdout",
          "text": [
            "Model: \"sequential_5\"\n",
            "_________________________________________________________________\n",
            " Layer (type)                Output Shape              Param #   \n",
            "=================================================================\n",
            " dense_15 (Dense)            (None, 10)                1290      \n",
            "                                                                 \n",
            " dense_16 (Dense)            (None, 5)                 55        \n",
            "                                                                 \n",
            " dense_17 (Dense)            (None, 1)                 6         \n",
            "                                                                 \n",
            "=================================================================\n",
            "Total params: 1,351\n",
            "Trainable params: 1,351\n",
            "Non-trainable params: 0\n",
            "_________________________________________________________________\n",
            "Epoch 1/50\n",
            "245/245 [==============================] - 1s 2ms/step - loss: 0.6915 - accuracy: 0.5310\n",
            "Epoch 2/50\n",
            "245/245 [==============================] - 0s 2ms/step - loss: 0.6661 - accuracy: 0.5931\n",
            "Epoch 3/50\n",
            "245/245 [==============================] - 0s 2ms/step - loss: 0.6580 - accuracy: 0.6034\n",
            "Epoch 4/50\n",
            "245/245 [==============================] - 0s 2ms/step - loss: 0.6554 - accuracy: 0.6069\n",
            "Epoch 5/50\n",
            "245/245 [==============================] - 0s 2ms/step - loss: 0.6532 - accuracy: 0.6107\n",
            "Epoch 6/50\n",
            "245/245 [==============================] - 0s 2ms/step - loss: 0.6518 - accuracy: 0.6114\n",
            "Epoch 7/50\n",
            "245/245 [==============================] - 0s 2ms/step - loss: 0.6504 - accuracy: 0.6134\n",
            "Epoch 8/50\n",
            "245/245 [==============================] - 0s 2ms/step - loss: 0.6495 - accuracy: 0.6159\n",
            "Epoch 9/50\n",
            "245/245 [==============================] - 0s 2ms/step - loss: 0.6483 - accuracy: 0.6180\n",
            "Epoch 10/50\n",
            "245/245 [==============================] - 0s 2ms/step - loss: 0.6477 - accuracy: 0.6169\n",
            "Epoch 11/50\n",
            "245/245 [==============================] - 0s 2ms/step - loss: 0.6460 - accuracy: 0.6176\n",
            "Epoch 12/50\n",
            "245/245 [==============================] - 0s 2ms/step - loss: 0.6459 - accuracy: 0.6198\n",
            "Epoch 13/50\n",
            "245/245 [==============================] - 0s 2ms/step - loss: 0.6445 - accuracy: 0.6235\n",
            "Epoch 14/50\n",
            "245/245 [==============================] - 0s 2ms/step - loss: 0.6437 - accuracy: 0.6233\n",
            "Epoch 15/50\n",
            "245/245 [==============================] - 0s 2ms/step - loss: 0.6433 - accuracy: 0.6240\n",
            "Epoch 16/50\n",
            "245/245 [==============================] - 0s 2ms/step - loss: 0.6427 - accuracy: 0.6279\n",
            "Epoch 17/50\n",
            "245/245 [==============================] - 0s 2ms/step - loss: 0.6427 - accuracy: 0.6228\n",
            "Epoch 18/50\n",
            "245/245 [==============================] - 0s 2ms/step - loss: 0.6426 - accuracy: 0.6230\n",
            "Epoch 19/50\n",
            "245/245 [==============================] - 0s 2ms/step - loss: 0.6416 - accuracy: 0.6243\n",
            "Epoch 20/50\n",
            "245/245 [==============================] - 0s 2ms/step - loss: 0.6423 - accuracy: 0.6256\n",
            "Epoch 21/50\n",
            "245/245 [==============================] - 0s 2ms/step - loss: 0.6408 - accuracy: 0.6254\n",
            "Epoch 22/50\n",
            "245/245 [==============================] - 0s 2ms/step - loss: 0.6402 - accuracy: 0.6275\n",
            "Epoch 23/50\n",
            "245/245 [==============================] - 0s 2ms/step - loss: 0.6404 - accuracy: 0.6271\n",
            "Epoch 24/50\n",
            "245/245 [==============================] - 0s 2ms/step - loss: 0.6400 - accuracy: 0.6264\n",
            "Epoch 25/50\n",
            "245/245 [==============================] - 0s 2ms/step - loss: 0.6400 - accuracy: 0.6272\n",
            "Epoch 26/50\n",
            "245/245 [==============================] - 0s 2ms/step - loss: 0.6396 - accuracy: 0.6285\n",
            "Epoch 27/50\n",
            "245/245 [==============================] - 0s 2ms/step - loss: 0.6390 - accuracy: 0.6282\n",
            "Epoch 28/50\n",
            "245/245 [==============================] - 0s 2ms/step - loss: 0.6391 - accuracy: 0.6251\n",
            "Epoch 29/50\n",
            "245/245 [==============================] - 0s 2ms/step - loss: 0.6383 - accuracy: 0.6305\n",
            "Epoch 30/50\n",
            "245/245 [==============================] - 0s 2ms/step - loss: 0.6389 - accuracy: 0.6293\n",
            "Epoch 31/50\n",
            "245/245 [==============================] - 0s 2ms/step - loss: 0.6379 - accuracy: 0.6305\n",
            "Epoch 32/50\n",
            "245/245 [==============================] - 0s 2ms/step - loss: 0.6380 - accuracy: 0.6307\n",
            "Epoch 33/50\n",
            "245/245 [==============================] - 0s 2ms/step - loss: 0.6372 - accuracy: 0.6307\n",
            "Epoch 34/50\n",
            "245/245 [==============================] - 0s 2ms/step - loss: 0.6372 - accuracy: 0.6285\n",
            "Epoch 35/50\n",
            "245/245 [==============================] - 0s 2ms/step - loss: 0.6377 - accuracy: 0.6292\n",
            "Epoch 36/50\n",
            "245/245 [==============================] - 0s 2ms/step - loss: 0.6367 - accuracy: 0.6293\n",
            "Epoch 37/50\n",
            "245/245 [==============================] - 0s 2ms/step - loss: 0.6372 - accuracy: 0.6297\n",
            "Epoch 38/50\n",
            "245/245 [==============================] - 0s 2ms/step - loss: 0.6373 - accuracy: 0.6296\n",
            "Epoch 39/50\n",
            "245/245 [==============================] - 0s 2ms/step - loss: 0.6367 - accuracy: 0.6323\n",
            "Epoch 40/50\n",
            "245/245 [==============================] - 0s 2ms/step - loss: 0.6362 - accuracy: 0.6326\n",
            "Epoch 41/50\n",
            "245/245 [==============================] - 0s 2ms/step - loss: 0.6365 - accuracy: 0.6279\n",
            "Epoch 42/50\n",
            "245/245 [==============================] - 0s 2ms/step - loss: 0.6364 - accuracy: 0.6290\n",
            "Epoch 43/50\n",
            "245/245 [==============================] - 0s 2ms/step - loss: 0.6361 - accuracy: 0.6314\n",
            "Epoch 44/50\n",
            "245/245 [==============================] - 0s 2ms/step - loss: 0.6349 - accuracy: 0.6309\n",
            "Epoch 45/50\n",
            "245/245 [==============================] - 0s 2ms/step - loss: 0.6357 - accuracy: 0.6321\n",
            "Epoch 46/50\n",
            "245/245 [==============================] - 0s 2ms/step - loss: 0.6352 - accuracy: 0.6324\n",
            "Epoch 47/50\n",
            "245/245 [==============================] - 0s 2ms/step - loss: 0.6350 - accuracy: 0.6308\n",
            "Epoch 48/50\n",
            "245/245 [==============================] - 0s 2ms/step - loss: 0.6351 - accuracy: 0.6316\n",
            "Epoch 49/50\n",
            "245/245 [==============================] - 0s 2ms/step - loss: 0.6354 - accuracy: 0.6298\n",
            "Epoch 50/50\n",
            "245/245 [==============================] - 0s 2ms/step - loss: 0.6357 - accuracy: 0.6311\n",
            "Classification Report\n",
            "              precision    recall  f1-score   support\n",
            "\n",
            "       Other       0.61      0.56      0.58      1918\n",
            "  Vietnamese       0.61      0.65      0.63      2000\n",
            "\n",
            "    accuracy                           0.61      3918\n",
            "   macro avg       0.61      0.61      0.61      3918\n",
            "weighted avg       0.61      0.61      0.61      3918\n",
            "\n"
          ]
        },
        {
          "output_type": "display_data",
          "data": {
            "image/png": "[encoded data removed]",
            "text/plain": [
              "<Figure size 720x504 with 2 Axes>"
            ]
          },
          "metadata": {
            "needs_background": "light"
          }
        }
      ]
    }
  ]
}