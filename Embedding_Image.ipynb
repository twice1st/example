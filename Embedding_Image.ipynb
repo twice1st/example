{
  "cells": [
    {
      "cell_type": "markdown",
      "metadata": {
        "colab_type": "text",
        "id": "view-in-github"
      },
      "source": [
        "<a href=\"https://colab.research.google.com/github/twice1st/Detecting-and-Beautifying-Vietnamese-Faces/blob/main/Source%20code/Embedding_Image.ipynb\" target=\"_parent\"><img src=\"https://colab.research.google.com/assets/colab-badge.svg\" alt=\"Open In Colab\"/></a>"
      ]
    },
    {
      "cell_type": "code",
      "execution_count": null,
      "metadata": {
        "colab": {
          "base_uri": "https://localhost:8080/"
        },
        "id": "xwAJSqGDosQi",
        "outputId": "39add5d9-65ab-449d-8287-f1a676fa8f94"
      },
      "outputs": [
        {
          "name": "stdout",
          "output_type": "stream",
          "text": [
            "Mounted at /content/drive\n"
          ]
        }
      ],
      "source": [
        "from google.colab import drive\n",
        "drive.mount('/content/drive')"
      ]
    },
    {
      "cell_type": "code",
      "execution_count": null,
      "metadata": {
        "id": "l5nC9_k_9YVS"
      },
      "outputs": [],
      "source": [
        "import os\n",
        "import cv2\n",
        "import numpy as np"
      ]
    },
    {
      "cell_type": "code",
      "execution_count": null,
      "metadata": {
        "colab": {
          "base_uri": "https://localhost:8080/"
        },
        "id": "Rw81PFZZ3rHz",
        "outputId": "eec1a25a-7083-4b53-e28c-ea91cf5333ad"
      },
      "outputs": [
        {
          "data": {
            "text/plain": [
              "19589"
            ]
          },
          "execution_count": 3,
          "metadata": {},
          "output_type": "execute_result"
        }
      ],
      "source": [
        "len(os.listdir(\"/content/drive/MyDrive/CS231/data_all/\"))"
      ]
    },
    {
      "cell_type": "code",
      "execution_count": null,
      "metadata": {
        "id": "2j2Po5gKpOTI"
      },
      "outputs": [],
      "source": [
        "path_emb_sm2 = \"/content/drive/MyDrive/CS231/nn4.small2.v1.t7\"\n",
        "path_emb_sm1 = '/content/drive/MyDrive/CS231/nn4.small1.v1.t7'\n",
        "path_emb_v2 = '/content/drive/MyDrive/CS231/nn4.v2.t7'\n",
        "def _load_torch(model_path_fl):\n",
        "  \"\"\"\n",
        "  model_path_fl: Link file chứa weigth của model\n",
        "  \"\"\"\n",
        "  model = cv2.dnn.readNetFromTorch(model_path_fl)\n",
        "  return model\n",
        "\n",
        "encoder_sm1 = _load_torch(path_emb_sm1)\n",
        "encoder_sm2 = _load_torch(path_emb_sm2)\n",
        "encoder_v2  = _load_torch(path_emb_v2)"
      ]
    },
    {
      "cell_type": "code",
      "execution_count": null,
      "metadata": {
        "id": "Q8aoIdby-qXV"
      },
      "outputs": [],
      "source": [
        "# import cv2\n",
        "\n",
        "def _blobImage(image, out_size = (300, 300), scaleFactor = 1.0, mean = (104.0, 177.0, 123.0)):\n",
        "  \"\"\"\n",
        "  input:\n",
        "    image: ma trận RGB của ảnh input\n",
        "    out_size: kích thước ảnh blob\n",
        "  return:\n",
        "    imageBlob: ảnh blob\n",
        "  \"\"\"\n",
        "  # Chuyển sang blobImage để tránh ảnh bị nhiễu sáng\n",
        "  imageBlob = cv2.dnn.blobFromImage(image, \n",
        "                                    scalefactor=scaleFactor,   # Scale image\n",
        "                                    size=out_size,  # Output shape\n",
        "                                    mean=mean,  # Trung bình kênh theo RGB\n",
        "                                    swapRB=False,  # Trường hợp ảnh là BGR thì set bằng True để chuyển qua RGB\n",
        "                                    crop=False)\n",
        "  return imageBlob"
      ]
    },
    {
      "cell_type": "code",
      "execution_count": null,
      "metadata": {
        "id": "i5hz8zlq_jxm"
      },
      "outputs": [],
      "source": [
        "def _image_read(image_path):\n",
        "  \"\"\"\n",
        "  input:\n",
        "    image_path: link file ảnh\n",
        "  return:\n",
        "    image: numpy array của ảnh\n",
        "  \"\"\"\n",
        "  image = cv2.imread(image_path)\n",
        "  image = cv2.cvtColor(image, cv2.COLOR_BGR2RGB)\n",
        "  return image"
      ]
    },
    {
      "cell_type": "code",
      "execution_count": null,
      "metadata": {
        "id": "KpHV8wKLJ4Tq"
      },
      "outputs": [],
      "source": [
        "import pickle\n",
        "\n",
        "def _save_pickle(obj, file_path):\n",
        "  with open(file_path, 'wb') as f:\n",
        "    pickle.dump(obj, f)\n",
        "\n",
        "def _load_pickle(file_path):\n",
        "  with open(file_path, 'rb') as f:\n",
        "    obj = pickle.load(f)\n",
        "  return obj"
      ]
    },
    {
      "cell_type": "code",
      "execution_count": null,
      "metadata": {
        "id": "bXg8hhsyq2mq"
      },
      "outputs": [],
      "source": [
        "_save_pickle(faces, \"/content/drive/MyDrive/CS231/file/faces.pkl\")\n",
        "_save_pickle(labels, \"/content/drive/MyDrive/CS231/file/labels.pkl\")\n",
        "_save_pickle(img_paths, \"/content/drive/MyDrive/CS231/file/images_file.pkl\")"
      ]
    },
    {
      "cell_type": "code",
      "execution_count": null,
      "metadata": {
        "id": "4KyYDYBDqPGh"
      },
      "outputs": [],
      "source": [
        "faces = _load_pickle(\"/content/drive/MyDrive/CS231/file/Trong/faces.pkl\")\n",
        "labels = _load_pickle(\"/content/drive/MyDrive/CS231/file/Trong/labels.pkl\")\n",
        "img_paths = _load_pickle(\"/content/drive/MyDrive/CS231/file/Trong/images_file.pkl\")"
      ]
    },
    {
      "cell_type": "code",
      "execution_count": null,
      "metadata": {
        "id": "MsS5aPSiOwQa"
      },
      "outputs": [],
      "source": [
        "def _embedding_faces(encoder, faces):\n",
        "  emb_vecs = []\n",
        "  for face in faces:\n",
        "    faceBlob = _blobImage(face, out_size = (96, 96), scaleFactor=1/255.0, mean=(0, 0, 0))\n",
        "    # Embedding face\n",
        "    encoder.setInput(faceBlob)\n",
        "    vec = encoder.forward()\n",
        "    emb_vecs.append(vec)\n",
        "  return emb_vecs\n",
        "\n",
        "embed_faces_sm1 = _embedding_faces(encoder_sm1, faces)\n",
        "embed_faces_sm2 = _embedding_faces(encoder_sm2, faces)\n",
        "embed_faces_v2 = _embedding_faces(encoder_v2, faces)\n",
        "# Nhớ save embed_faces vào Dataset.\n",
        "_save_pickle(embed_faces_sm1, \"/content/drive/MyDrive/CS231/file/Trong/embed_blob_faces_sm1_300.pkl\")\n",
        "_save_pickle(embed_faces_sm2, \"/content/drive/MyDrive/CS231/file/Trong/embed_blob_faces_sm2_300.pkl\")\n",
        "_save_pickle(embed_faces_v2, \"/content/drive/MyDrive/CS231/file/Trong/embed_blob_faces_v2_300.pkl\")"
      ]
    },
    {
      "cell_type": "code",
      "execution_count": null,
      "metadata": {
        "id": "S46dZ7VKCpkK"
      },
      "outputs": [],
      "source": [
        "from google.colab.patches import cv2_imshow\n",
        "import cv2\n"
      ]
    },
    {
      "cell_type": "code",
      "execution_count": null,
      "metadata": {
        "id": "Y6icBitKqCSU"
      },
      "outputs": [],
      "source": [
        "def _embedding_faces(encoder, faces):\n",
        "  emb_vecs = []\n",
        "  for face in faces:\n",
        "    # faceBlob = _blobImage(face, out_size = (96, 96), scaleFactor=1/255.0, mean=(0, 0, 0))\n",
        "    # Embedding face\n",
        "    face_resize = cv2.resize(face, (96,96))/255\n",
        "    face_resize = face_resize.reshape(1,3,96,96)\n",
        "    encoder.setInput(face_resize)\n",
        "    vec = encoder.forward()\n",
        "    emb_vecs.append(vec)\n",
        "  return emb_vecs\n",
        "\n",
        "embed_faces_sm1 = _embedding_faces(encoder_sm1, faces)\n",
        "embed_faces_sm2 = _embedding_faces(encoder_sm2, faces)\n",
        "embed_faces_v2 = _embedding_faces(encoder_v2, faces)\n",
        "# Nhớ save embed_faces vào Dataset.\n",
        "_save_pickle(embed_faces_sm1, \"/content/drive/MyDrive/CS231/file/Trong/embed_blob_faces_sm1_no_processing.pkl\")\n",
        "_save_pickle(embed_faces_sm2, \"/content/drive/MyDrive/CS231/file/Trong/embed_blob_faces_sm2_no_processing.pkl\")\n",
        "_save_pickle(embed_faces_v2, \"/content/drive/MyDrive/CS231/file/Trong/embed_blob_faces_v2_no_processing.pkl\")"
      ]
    },
    {
      "cell_type": "code",
      "execution_count": null,
      "metadata": {
        "colab": {
          "base_uri": "https://localhost:8080/"
        },
        "id": "YdTTqFtit21B",
        "outputId": "30ea9785-1ad7-4447-c52c-c5eb01337879"
      },
      "outputs": [
        {
          "name": "stdout",
          "output_type": "stream",
          "text": [
            "(15671, 128) (3918, 128)\n",
            "15671 3918\n"
          ]
        }
      ],
      "source": [
        "from sklearn.model_selection import train_test_split\n",
        "ids = np.arange(len(labels))\n",
        "X_train, X_test, y_train, y_test, id_train, id_test = train_test_split(np.stack(embed_faces), labels, ids, test_size = 0.2, stratify = labels)\n",
        "X_train = np.squeeze(X_train, axis = 1)\n",
        "X_test = np.squeeze(X_test, axis = 1)\n",
        "print(X_train.shape, X_test.shape)\n",
        "print(len(y_train), len(y_test))"
      ]
    },
    {
      "cell_type": "code",
      "execution_count": null,
      "metadata": {
        "colab": {
          "base_uri": "https://localhost:8080/",
          "height": 35
        },
        "id": "wTB0dyNkvq-L",
        "outputId": "10619226-ea31-4de1-f0e1-d0244b8b3c70"
      },
      "outputs": [
        {
          "data": {
            "application/vnd.google.colaboratory.intrinsic+json": {
              "type": "string"
            },
            "text/plain": [
              "'1'"
            ]
          },
          "execution_count": 36,
          "metadata": {},
          "output_type": "execute_result"
        }
      ],
      "source": [
        "y_test[1]"
      ]
    },
    {
      "cell_type": "code",
      "execution_count": null,
      "metadata": {
        "colab": {
          "base_uri": "https://localhost:8080/",
          "height": 35
        },
        "id": "xiV-8cm8vhPq",
        "outputId": "6ec9a794-41ec-4290-be89-e28dabcc74a0"
      },
      "outputs": [
        {
          "data": {
            "application/vnd.google.colaboratory.intrinsic+json": {
              "type": "string"
            },
            "text/plain": [
              "'1'"
            ]
          },
          "execution_count": 37,
          "metadata": {},
          "output_type": "execute_result"
        }
      ],
      "source": [
        "from sklearn.metrics.pairwise import cosine_similarity\n",
        "\n",
        "def _most_similarity(embed_vecs, vec, labels):\n",
        "  sim = cosine_similarity(embed_vecs, vec)\n",
        "  sim = np.squeeze(sim, axis = 1)\n",
        "  argmax = np.argsort(sim)[::-1][:1]\n",
        "  label = [labels[idx] for idx in argmax][0]\n",
        "  return label\n",
        "\n",
        "# Lấy ngẫu nhiên một bức ảnh trong test\n",
        "vec = X_test[1].reshape(1, -1)\n",
        "# Tìm kiếm ảnh gần nhất\n",
        "_most_similarity(X_train, vec, y_train)"
      ]
    },
    {
      "cell_type": "markdown",
      "metadata": {
        "id": "CmAYVmFzJh1x"
      },
      "source": [
        "# sm2"
      ]
    },
    {
      "cell_type": "code",
      "execution_count": null,
      "metadata": {
        "colab": {
          "base_uri": "https://localhost:8080/"
        },
        "id": "Le_KeQm7Jdqg",
        "outputId": "3613571c-6485-4c1a-c1f9-dbf45c88caa5"
      },
      "outputs": [
        {
          "name": "stdout",
          "output_type": "stream",
          "text": [
            "0.7401735579377233\n"
          ]
        }
      ],
      "source": [
        "# def _acc_test(test_set, y_test):\n",
        "from sklearn.metrics import accuracy_score\n",
        "\n",
        "y_preds = []\n",
        "for vec in X_test:\n",
        "  vec = vec.reshape(1, -1)\n",
        "  y_pred = _most_similarity(X_train, vec, y_train)\n",
        "  y_preds.append(y_pred)\n",
        "\n",
        "print(accuracy_score(y_preds, y_test))"
      ]
    },
    {
      "cell_type": "markdown",
      "metadata": {
        "id": "pidj4QdxJUyK"
      },
      "source": [
        "# sm1"
      ]
    },
    {
      "cell_type": "code",
      "execution_count": null,
      "metadata": {
        "colab": {
          "base_uri": "https://localhost:8080/"
        },
        "id": "KdsZaCM1vycR",
        "outputId": "a9455175-567c-4b08-e1df-c31c2021cd73"
      },
      "outputs": [
        {
          "name": "stdout",
          "output_type": "stream",
          "text": [
            "0.7274119448698315\n"
          ]
        }
      ],
      "source": [
        "# def _acc_test(test_set, y_test):\n",
        "from sklearn.metrics import accuracy_score\n",
        "\n",
        "y_preds = []\n",
        "for vec in X_test:\n",
        "  vec = vec.reshape(1, -1)\n",
        "  y_pred = _most_similarity(X_train, vec, y_train)\n",
        "  y_preds.append(y_pred)\n",
        "\n",
        "print(accuracy_score(y_preds, y_test))"
      ]
    },
    {
      "cell_type": "markdown",
      "metadata": {
        "id": "DjVGqzP7JRTk"
      },
      "source": [
        "# v2"
      ]
    },
    {
      "cell_type": "code",
      "execution_count": null,
      "metadata": {
        "colab": {
          "base_uri": "https://localhost:8080/"
        },
        "id": "KoxCqUbUGiyk",
        "outputId": "f39569b2-ed3b-4993-f4c6-edb408243269"
      },
      "outputs": [
        {
          "name": "stdout",
          "output_type": "stream",
          "text": [
            "0.6763654925982644\n"
          ]
        }
      ],
      "source": [
        "# def _acc_test(test_set, y_test):\n",
        "from sklearn.metrics import accuracy_score\n",
        "\n",
        "y_preds = []\n",
        "for vec in X_test:\n",
        "  vec = vec.reshape(1, -1)\n",
        "  y_pred = _most_similarity(X_train, vec, y_train)\n",
        "  y_preds.append(y_pred)\n",
        "\n",
        "print(accuracy_score(y_preds, y_test))"
      ]
    },
    {
      "cell_type": "code",
      "execution_count": 2,
      "metadata": {},
      "outputs": [
        {
          "name": "stdout",
          "output_type": "stream",
          "text": [
            "NGK\n"
          ]
        }
      ],
      "source": [
        "print(\"NGK\")"
      ]
    }
  ],
  "metadata": {
    "accelerator": "GPU",
    "colab": {
      "include_colab_link": true,
      "provenance": []
    },
    "kernelspec": {
      "display_name": "Python 3",
      "name": "python3"
    },
    "language_info": {
      "codemirror_mode": {
        "name": "ipython",
        "version": 3
      },
      "file_extension": ".py",
      "mimetype": "text/x-python",
      "name": "python",
      "nbconvert_exporter": "python",
      "pygments_lexer": "ipython3",
      "version": "3.11.4"
    }
  },
  "nbformat": 4,
  "nbformat_minor": 0
}
